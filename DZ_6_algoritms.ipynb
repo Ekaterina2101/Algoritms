{
 "cells": [
  {
   "cell_type": "code",
   "execution_count": 18,
   "id": "4bbdcbc9",
   "metadata": {},
   "outputs": [],
   "source": [
    "from sklearn import model_selection\n",
    "from sklearn.tree import DecisionTreeRegressor\n",
    "from sklearn.datasets import load_diabetes\n",
    "import matplotlib.pyplot as plt\n",
    "import numpy as np"
   ]
  },
  {
   "cell_type": "code",
   "execution_count": 19,
   "id": "a3d9fadf",
   "metadata": {},
   "outputs": [
    {
     "data": {
      "text/plain": [
       "((442, 10), (442,))"
      ]
     },
     "execution_count": 19,
     "metadata": {},
     "output_type": "execute_result"
    }
   ],
   "source": [
    "X, y = load_diabetes(return_X_y=True)\n",
    "X.shape, y.shape"
   ]
  },
  {
   "cell_type": "code",
   "execution_count": 20,
   "id": "a32ecf2b",
   "metadata": {},
   "outputs": [],
   "source": [
    "X_train, X_test, y_train, y_test = model_selection.train_test_split(X, y, test_size=0.25)"
   ]
  },
  {
   "cell_type": "code",
   "execution_count": 21,
   "id": "b6c955d4",
   "metadata": {},
   "outputs": [],
   "source": [
    "def gb_predict(X, trees_list, eta):\n",
    "    # Реализуемый алгоритм градиентного бустинга будет инициализироваться нулевыми значениями,\n",
    "    # поэтому все деревья из списка trees_list уже являются дополнительными и при предсказании\n",
    "    # прибавляются с шагом eta\n",
    "    \n",
    "#     predictions = np.zeros(X.shape[0])\n",
    "#     for i, x in enumerate(X):\n",
    "#         prediction = 0\n",
    "#         for alg in trees_list:\n",
    "#             prediction += eta * alg.predict([x])[0]\n",
    "#         predictions[i] = prediction\n",
    "        \n",
    "    predictions = np.array(\n",
    "        [sum([eta * alg.predict([x])[0] for alg in trees_list]) for x in X]\n",
    "    )\n",
    "\n",
    "    return predictions"
   ]
  },
  {
   "cell_type": "code",
   "execution_count": 22,
   "id": "64a082e1",
   "metadata": {},
   "outputs": [],
   "source": [
    "def mean_squared_error(y_real, prediction):\n",
    "    return (sum((y_real - prediction)**2)) / len(y_real)"
   ]
  },
  {
   "cell_type": "code",
   "execution_count": 23,
   "id": "bc0f2bf0",
   "metadata": {},
   "outputs": [],
   "source": [
    "def residual(y, z):\n",
    "    return - (z - y)"
   ]
  },
  {
   "cell_type": "code",
   "execution_count": 24,
   "id": "cb263ca6",
   "metadata": {},
   "outputs": [],
   "source": [
    "def gb_fit(n_trees, max_depth, X_train, X_test, y_train, y_test, eta):\n",
    "    \n",
    "    # Деревья будем записывать в список\n",
    "    trees = []\n",
    "    \n",
    "    # Будем записывать ошибки на обучающей и тестовой выборке на каждой итерации в список\n",
    "    train_errors = []\n",
    "    test_errors = []\n",
    "    \n",
    "    for i in range(n_trees):\n",
    "        tree = DecisionTreeRegressor(max_depth=max_depth, random_state=42)\n",
    "\n",
    "        # первый алгоритм просто обучаем на выборке и добавляем в список\n",
    "        if len(trees) == 0:\n",
    "            # обучаем первое дерево на обучающей выборке\n",
    "            tree.fit(X_train, y_train)\n",
    "            \n",
    "            train_errors.append(mean_squared_error(y_train, gb_predict(X_train, trees, eta)))\n",
    "            test_errors.append(mean_squared_error(y_test, gb_predict(X_test, trees, eta)))\n",
    "        else:\n",
    "            # Получим ответы на текущей композиции\n",
    "            target = gb_predict(X_train, trees, eta)\n",
    "            \n",
    "            # алгоритмы начиная со второго обучаем на сдвиг\n",
    "            tree.fit(X_train, residual(y_train, target))\n",
    "            \n",
    "            train_errors.append(mean_squared_error(y_train, gb_predict(X_train, trees, eta)))\n",
    "            test_errors.append(mean_squared_error(y_test, gb_predict(X_test, trees, eta)))\n",
    "\n",
    "        trees.append(tree)\n",
    "        \n",
    "    return trees, train_errors, test_errors"
   ]
  },
  {
   "cell_type": "code",
   "execution_count": 10,
   "id": "7a1b87f1",
   "metadata": {},
   "outputs": [],
   "source": [
    "# Число деревьев в ансамбле\n",
    "#n_trees = 10\n",
    "\n",
    "# Максимальная глубина деревьев\n",
    "#max_depth = 3\n",
    "\n",
    "# Шаг\n",
    "#eta = 1\n",
    "\n",
    "#trees, train_errors, test_errors = gb_fit(n_trees, max_depth, X_train, X_test, y_train, y_test, eta)"
   ]
  },
  {
   "cell_type": "code",
   "execution_count": 25,
   "id": "fbf645ff",
   "metadata": {},
   "outputs": [],
   "source": [
    "def evaluate_alg(X_train, X_test, y_train, y_test, trees, eta):\n",
    "    train_prediction = gb_predict(X_train, trees, eta)\n",
    "\n",
    "    #print(f'Ошибка алгоритма из {n_trees} деревьев глубиной {max_depth} \\\n",
    "    #с шагом {eta} на тренировочной выборке: {mean_squared_error(y_train, train_prediction)}')\n",
    "\n",
    "    test_prediction = gb_predict(X_test, trees, eta)\n",
    "\n",
    "    #print(f'Ошибка алгоритма из {n_trees} деревьев глубиной {max_depth} \\\n",
    "    #с шагом {eta} на тестовой выборке: {mean_squared_error(y_test, test_prediction)}')\n",
    "    return mean_squared_error(y_test, test_prediction), mean_squared_error(y_train, train_prediction)"
   ]
  },
  {
   "cell_type": "code",
   "execution_count": null,
   "id": "bc3310a2",
   "metadata": {},
   "outputs": [],
   "source": []
  },
  {
   "cell_type": "code",
   "execution_count": 12,
   "id": "f75eb246",
   "metadata": {},
   "outputs": [
    {
     "name": "stdout",
     "output_type": "stream",
     "text": [
      "Ошибка алгоритма из 10 деревьев глубиной 3     с шагом 1 на тренировочной выборке: 1064.9060046428197\n",
      "Ошибка алгоритма из 10 деревьев глубиной 3     с шагом 1 на тестовой выборке: 4869.561647476561\n"
     ]
    }
   ],
   "source": [
    "#evaluate_alg(X_train, X_test, y_train, y_test, trees, eta)"
   ]
  },
  {
   "cell_type": "code",
   "execution_count": 13,
   "id": "95919647",
   "metadata": {},
   "outputs": [],
   "source": [
    "#def get_error_plot(n_trees, train_err, test_err):\n",
    "    #plt.xlabel('Iteration number')\n",
    "    #plt.ylabel('MSE')\n",
    "    #plt.xlim(0, n_trees)\n",
    "    #plt.plot(list(range(n_trees)), train_err, label='train error')\n",
    "    #plt.plot(list(range(n_trees)), test_err, label='test error')\n",
    "    #plt.legend(loc='upper right')\n",
    "    #plt.show()"
   ]
  },
  {
   "cell_type": "code",
   "execution_count": 14,
   "id": "a5b4b080",
   "metadata": {},
   "outputs": [
    {
     "data": {
      "image/png": "[encoded data removed]",
      "text/plain": [
       "<Figure size 432x288 with 1 Axes>"
      ]
     },
     "metadata": {
      "needs_background": "light"
     },
     "output_type": "display_data"
    }
   ],
   "source": [
    "#get_error_plot(n_trees, train_errors, test_errors)"
   ]
  },
  {
   "cell_type": "code",
   "execution_count": 15,
   "id": "04630868",
   "metadata": {},
   "outputs": [
    {
     "name": "stdout",
     "output_type": "stream",
     "text": [
      "Wall time: 2min 10s\n"
     ]
    }
   ],
   "source": [
    "#%%time\n",
    "#n_trees = 50\n",
    "\n",
    "#trees, train_errors, test_errors = gb_fit(n_trees, max_depth, X_train, X_test, y_train, y_test, eta)"
   ]
  },
  {
   "cell_type": "code",
   "execution_count": 16,
   "id": "c24193b8",
   "metadata": {},
   "outputs": [
    {
     "name": "stdout",
     "output_type": "stream",
     "text": [
      "Ошибка алгоритма из 50 деревьев глубиной 3     с шагом 1 на тренировочной выборке: 49.31253181740032\n",
      "Ошибка алгоритма из 50 деревьев глубиной 3     с шагом 1 на тестовой выборке: 6289.913746583755\n"
     ]
    }
   ],
   "source": [
    "#evaluate_alg(X_train, X_test, y_train, y_test, trees, eta)"
   ]
  },
  {
   "cell_type": "code",
   "execution_count": 17,
   "id": "5475fd0e",
   "metadata": {},
   "outputs": [
    {
     "data": {
      "image/png": "[encoded data removed]",
      "text/plain": [
       "<Figure size 432x288 with 1 Axes>"
      ]
     },
     "metadata": {
      "needs_background": "light"
     },
     "output_type": "display_data"
    }
   ],
   "source": [
    "#get_error_plot(n_trees, train_errors, test_errors)"
   ]
  },
  {
   "cell_type": "code",
   "execution_count": null,
   "id": "9f6cc2fb",
   "metadata": {},
   "outputs": [],
   "source": [
    "#%%time\n",
    "#eta = 0.1\n",
    "\n",
    "#trees, train_errors, test_errors = gb_fit(n_trees, max_depth, X_train, X_test, y_train, y_test, eta)"
   ]
  },
  {
   "cell_type": "code",
   "execution_count": null,
   "id": "05c5ee65",
   "metadata": {},
   "outputs": [],
   "source": [
    "#evaluate_alg(X_train, X_test, y_train, y_test, trees, eta)\n",
    "#get_error_plot(n_trees, train_errors, test_errors)"
   ]
  },
  {
   "cell_type": "code",
   "execution_count": null,
   "id": "ee7617cb",
   "metadata": {},
   "outputs": [],
   "source": [
    "#%%time\n",
    "#eta = 0.01\n",
    "\n",
    "#trees, train_errors, test_errors = gb_fit(n_trees, max_depth, X_train, X_test, y_train, y_test, eta)"
   ]
  },
  {
   "cell_type": "code",
   "execution_count": null,
   "id": "b6c5a17a",
   "metadata": {},
   "outputs": [],
   "source": [
    "#evaluate_alg(X_train, X_test, y_train, y_test, trees, eta)\n",
    "#get_error_plot(n_trees, train_errors, test_errors)"
   ]
  },
  {
   "cell_type": "code",
   "execution_count": null,
   "id": "4eea2ac9",
   "metadata": {},
   "outputs": [],
   "source": [
    "#%%time\n",
    "#eta = 0.1\n",
    "#max_depth = 5\n",
    "\n",
    "#trees, train_errors, test_errors = gb_fit(n_trees, max_depth, X_train, X_test, y_train, y_test, eta)"
   ]
  },
  {
   "cell_type": "code",
   "execution_count": null,
   "id": "4046cac2",
   "metadata": {},
   "outputs": [],
   "source": [
    "#evaluate_alg(X_train, X_test, y_train, y_test, trees, eta)\n",
    "#get_error_plot(n_trees, train_errors, test_errors)"
   ]
  },
  {
   "cell_type": "code",
   "execution_count": 28,
   "id": "6b29f979",
   "metadata": {},
   "outputs": [
    {
     "name": "stdout",
     "output_type": "stream",
     "text": [
      "Ошибка алгоритма из 50 деревьев глубиной 5     с шагом 0.1 на тренировочной выборке: 23984.747923148858\n",
      "Ошибка алгоритма из 50 деревьев глубиной 5     с шагом 0.1 на тренировочной выборке: 4008.251986788565\n",
      "Ошибка алгоритма из 50 деревьев глубиной 5     с шагом 0.1 на тренировочной выборке: 1187.5719277781127\n",
      "Ошибка алгоритма из 50 деревьев глубиной 5     с шагом 0.1 на тренировочной выборке: 595.3113353784145\n",
      "Ошибка алгоритма из 50 деревьев глубиной 5     с шагом 0.1 на тренировочной выборке: 385.6163967944114\n",
      "Ошибка алгоритма из 50 деревьев глубиной 5     с шагом 0.1 на тренировочной выборке: 289.2138921362595\n",
      "Ошибка алгоритма из 50 деревьев глубиной 5     с шагом 0.1 на тренировочной выборке: 222.12091237035366\n",
      "Ошибка алгоритма из 50 деревьев глубиной 5     с шагом 0.1 на тренировочной выборке: 163.63396676482833\n",
      "Ошибка алгоритма из 50 деревьев глубиной 5     с шагом 0.1 на тренировочной выборке: 130.2428864123759\n",
      "Ошибка алгоритма из 50 деревьев глубиной 5     с шагом 0.1 на тренировочной выборке: 96.32328979472739\n"
     ]
    },
    {
     "data": {
      "image/png": "[encoded data removed]",
      "text/plain": [
       "<Figure size 432x288 with 1 Axes>"
      ]
     },
     "metadata": {
      "needs_background": "light"
     },
     "output_type": "display_data"
    }
   ],
   "source": [
    "# Для зависимости ошибки от количества деревьев\n",
    "\n",
    "n=[] #количество деревьев\n",
    "z_test=[] #ошибка на тестовой выборке\n",
    "z_train=[] #ошибка на тренировочной выборке\n",
    "\n",
    "eta = 0.1\n",
    "max_depth = 5\n",
    "for i in range(1, 100, 10):\n",
    "    n.append(i)\n",
    "    trees, train_errors, test_errors = gb_fit(i, max_depth, X_train, X_test, y_train, y_test, eta)\n",
    "    test_z, train_z=evaluate_alg(X_train, X_test, y_train, y_test, trees, eta)\n",
    "    z_test.append(test_z)\n",
    "    z_train.append(train_z)\n",
    "    \n",
    "    \n",
    "plt.xlabel('Number trees')\n",
    "plt.ylabel('MSE')\n",
    "plt.xlim(0, 100)\n",
    "plt.plot(n, z_train, label='train error')\n",
    "plt.plot(n, z_test, label='test error')\n",
    "plt.legend(loc='upper right')\n",
    "plt.show()"
   ]
  },
  {
   "cell_type": "markdown",
   "id": "35313e30",
   "metadata": {},
   "source": [
    "Вывод при увеличении количества деревьев ошибка на тренеровочной выборке снижается, на тестовой при увеличение деревьев более 20 не изменяется."
   ]
  },
  {
   "cell_type": "code",
   "execution_count": 30,
   "id": "2bb37851",
   "metadata": {
    "scrolled": true
   },
   "outputs": [
    {
     "name": "stdout",
     "output_type": "stream",
     "text": [
      "Ошибка алгоритма из 20 деревьев глубиной 5     с шагом 0.1 на тренировочной выборке: 3459.673306740171\n",
      "Ошибка алгоритма из 20 деревьев глубиной 5     с шагом 0.1 на тренировочной выборке: 2372.6621101803776\n",
      "Ошибка алгоритма из 20 деревьев глубиной 5     с шагом 0.1 на тренировочной выборке: 1311.3122996589595\n",
      "Ошибка алгоритма из 20 деревьев глубиной 5     с шагом 0.1 на тренировочной выборке: 673.5209653082526\n",
      "Ошибка алгоритма из 20 деревьев глубиной 5     с шагом 0.1 на тренировочной выборке: 474.8630707990296\n"
     ]
    },
    {
     "data": {
      "image/png": "[encoded data removed]",
      "text/plain": [
       "<Figure size 432x288 with 1 Axes>"
      ]
     },
     "metadata": {
      "needs_background": "light"
     },
     "output_type": "display_data"
    }
   ],
   "source": [
    "# Для зависимости ошибки от глубины деревьев\n",
    "\n",
    "n_g=[] #глубина деревьев\n",
    "z_test1=[] #ошибка на тестовой выборке\n",
    "z_train1=[] #ошибка на тренировочной выборке\n",
    "\n",
    "eta = 0.1\n",
    "n_trees = 20\n",
    "for i in range(1, 10, 2):\n",
    "    n_g.append(i)\n",
    "    trees, train_errors, test_errors = gb_fit(n_trees, i, X_train, X_test, y_train, y_test, eta)\n",
    "    test_z, train_z=evaluate_alg(X_train, X_test, y_train, y_test, trees, eta)\n",
    "    z_test1.append(test_z)\n",
    "    z_train1.append(train_z)\n",
    "    \n",
    "    \n",
    "plt.xlabel('depth trees')\n",
    "plt.ylabel('MSE')\n",
    "plt.xlim(0, 10)\n",
    "plt.plot(n_g, z_train1, label='train error')\n",
    "plt.plot(n_g, z_test1, label='test error')\n",
    "plt.legend(loc='upper right')\n",
    "plt.show()"
   ]
  },
  {
   "cell_type": "markdown",
   "id": "c6cf2c3f",
   "metadata": {},
   "source": [
    "Вывод: при увеличении глубины деревьев модель начинает переобучаться: ошибка на тренировочной выборке снижается, а на тестовой с определенной глубины начинает расти."
   ]
  }
 ],
 "metadata": {
  "kernelspec": {
   "display_name": "Python 3",
   "language": "python",
   "name": "python3"
  },
  "language_info": {
   "codemirror_mode": {
    "name": "ipython",
    "version": 3
   },
   "file_extension": ".py",
   "mimetype": "text/x-python",
   "name": "python",
   "nbconvert_exporter": "python",
   "pygments_lexer": "ipython3",
   "version": "3.8.8"
  }
 },
 "nbformat": 4,
 "nbformat_minor": 5
}
