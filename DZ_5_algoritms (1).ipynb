{
 "cells": [
  {
   "cell_type": "code",
   "execution_count": 24,
   "id": "826bb8a4",
   "metadata": {},
   "outputs": [],
   "source": [
    "import matplotlib.pyplot as plt\n",
    "import random\n",
    "\n",
    "from matplotlib.colors import ListedColormap\n",
    "from sklearn.datasets import make_classification\n",
    "\n",
    "import numpy as np"
   ]
  },
  {
   "cell_type": "code",
   "execution_count": 25,
   "id": "aeafec43",
   "metadata": {},
   "outputs": [],
   "source": [
    " #сгенерируем данные, представляющие собой 500 объектов с 5-ю признаками\n",
    "classification_data, classification_labels = make_classification(n_samples=100,\n",
    "                                                                 n_features=2, n_informative=2, \n",
    "                                                                 n_classes=2, n_redundant=0, \n",
    "                                                                 n_clusters_per_class=1, random_state=23)"
   ]
  },
  {
   "cell_type": "code",
   "execution_count": 26,
   "id": "aa47d59f",
   "metadata": {},
   "outputs": [],
   "source": [
    "np.random.seed(42)\n",
    "\n",
    "def get_bootstrap(data, labels, N):\n",
    "    n_samples = data.shape[0] # размер совпадает с исходной выборкой\n",
    "    bootstrap = []\n",
    "    \n",
    "    for i in range(N):\n",
    "        \n",
    "        sample_index = np.random.randint(0, n_samples, size=n_samples)\n",
    "        b_data = data[sample_index]\n",
    "        b_labels = labels[sample_index]\n",
    "        \n",
    "        bootstrap.append((b_data, b_labels))\n",
    "        \n",
    "    return bootstrap"
   ]
  },
  {
   "cell_type": "code",
   "execution_count": 27,
   "id": "f869bbd9",
   "metadata": {},
   "outputs": [
    {
     "data": {
      "text/plain": [
       "[(array([[-0.37124564, -1.67679697],\n",
       "         [-0.51278018, -0.98556015],\n",
       "         [-0.54813278, -0.39241207],\n",
       "         [-0.94885569, -1.24713565],\n",
       "         [ 0.1502772 ,  0.47273166],\n",
       "         [ 0.39895961, -1.67752215],\n",
       "         [ 2.07599128, -1.91770526],\n",
       "         [ 0.7432376 , -1.19378765],\n",
       "         [ 1.63478531,  0.33127428],\n",
       "         [ 1.63478531,  0.33127428],\n",
       "         [ 0.2357014 , -0.70960755],\n",
       "         [-1.50248523, -1.17842831],\n",
       "         [ 0.29776211, -0.65527205],\n",
       "         [ 0.23440873, -1.23792282],\n",
       "         [ 0.75356225, -1.93718584],\n",
       "         [ 1.5505173 , -1.28773359],\n",
       "         [ 0.75362536, -0.89523588],\n",
       "         [ 0.2357014 , -0.70960755],\n",
       "         [-0.42752956, -1.05442826],\n",
       "         [ 1.40819172, -0.95107001],\n",
       "         [ 0.75362536, -0.89523588],\n",
       "         [-1.57180854, -0.93984594],\n",
       "         [ 0.67432897,  0.01459861],\n",
       "         [ 0.39895961, -1.67752215],\n",
       "         [-0.363129  , -0.56729178],\n",
       "         [ 0.76616762, -0.85256618],\n",
       "         [ 1.19398453, -0.7826786 ],\n",
       "         [ 0.75356225, -1.93718584],\n",
       "         [-1.29522216, -0.93551741],\n",
       "         [-1.49126304, -0.74439295],\n",
       "         [-2.3404753 , -1.42946665],\n",
       "         [-0.35118015, -0.33169791],\n",
       "         [ 0.76702748, -3.59322681],\n",
       "         [-0.03768929, -0.56641441],\n",
       "         [ 0.67432897,  0.01459861],\n",
       "         [-1.13369344, -0.70018563],\n",
       "         [-0.54813278, -0.39241207],\n",
       "         [ 0.26719555, -1.39258319],\n",
       "         [ 0.26719555, -1.39258319],\n",
       "         [-0.20744578, -0.43485286],\n",
       "         [ 0.26719555, -1.39258319],\n",
       "         [ 1.42010067, -0.73130767],\n",
       "         [-1.65654444, -1.39697675],\n",
       "         [-1.57180854, -0.93984594],\n",
       "         [ 0.23440873, -1.23792282],\n",
       "         [ 1.42010067, -0.73130767],\n",
       "         [ 0.2983303 , -1.20310229],\n",
       "         [ 0.39895961, -1.67752215],\n",
       "         [-0.67041978, -0.3446216 ],\n",
       "         [-1.05692783, -1.10609382],\n",
       "         [-1.28117392, -1.45571598],\n",
       "         [ 0.95210618, -0.24334078],\n",
       "         [-1.29522216, -0.93551741],\n",
       "         [ 0.67432897,  0.01459861],\n",
       "         [-0.89801198, -0.76152096],\n",
       "         [ 1.30650827, -1.89704851],\n",
       "         [ 1.95593053, -1.71300943],\n",
       "         [ 1.5505173 , -1.28773359],\n",
       "         [ 0.75362536, -0.89523588],\n",
       "         [ 0.77719504, -0.89925724],\n",
       "         [-0.03768929, -0.56641441],\n",
       "         [ 0.67432897,  0.01459861],\n",
       "         [-1.3080473 , -1.14350806],\n",
       "         [-0.82743156, -1.05630101],\n",
       "         [ 0.30003015, -1.43463906],\n",
       "         [-0.20744578, -0.43485286],\n",
       "         [ 1.35614047,  1.5510826 ],\n",
       "         [-1.68766828, -1.18131305],\n",
       "         [ 0.08205456, -0.57684074],\n",
       "         [ 0.14552248, -0.5184148 ],\n",
       "         [ 0.29032534, -0.1935651 ],\n",
       "         [ 0.95210618, -0.24334078],\n",
       "         [ 0.75362536, -0.89523588],\n",
       "         [ 1.27392667, -0.87420414],\n",
       "         [-0.54229959, -0.95705042],\n",
       "         [ 0.95210618, -0.24334078],\n",
       "         [-0.54229959, -0.95705042],\n",
       "         [-0.51278018, -0.98556015],\n",
       "         [ 1.14152797,  0.16571559],\n",
       "         [-1.28117392, -1.45571598],\n",
       "         [ 1.95593053, -1.71300943],\n",
       "         [-0.82743156, -1.05630101],\n",
       "         [-1.18741188, -1.15918374],\n",
       "         [-1.04423735, -0.68772426],\n",
       "         [ 0.26719555, -1.39258319],\n",
       "         [-1.50248523, -1.17842831],\n",
       "         [-0.89801198, -0.76152096],\n",
       "         [-0.18932739, -0.79668574],\n",
       "         [ 1.41992702, -2.02770251],\n",
       "         [-0.54813278, -0.39241207],\n",
       "         [-0.94885569, -1.24713565],\n",
       "         [-1.68766828, -1.18131305],\n",
       "         [ 0.7432376 , -1.19378765],\n",
       "         [ 0.26719555, -1.39258319],\n",
       "         [ 0.9136297 , -1.57768323],\n",
       "         [-0.51937124, -0.56199368],\n",
       "         [-1.13369344, -0.70018563],\n",
       "         [ 0.94630443, -2.98772039],\n",
       "         [ 1.5505173 , -1.28773359],\n",
       "         [ 0.29776211, -0.65527205]]),\n",
       "  array([0, 1, 1, 1, 0, 0, 0, 0, 0, 0, 1, 1, 1, 0, 0, 0, 0, 1, 1, 0, 0, 1,\n",
       "         0, 0, 1, 0, 0, 0, 1, 1, 1, 1, 0, 1, 0, 1, 1, 0, 0, 0, 0, 0, 1, 1,\n",
       "         0, 0, 0, 0, 1, 1, 1, 0, 1, 0, 1, 0, 0, 0, 0, 0, 1, 0, 1, 1, 0, 0,\n",
       "         0, 1, 1, 0, 0, 0, 0, 0, 1, 0, 1, 1, 0, 1, 0, 1, 1, 1, 0, 1, 1, 1,\n",
       "         0, 1, 1, 1, 0, 0, 0, 1, 1, 0, 0, 1])),\n",
       " (array([[-0.75862888, -0.59623401],\n",
       "         [-1.29522216, -0.93551741],\n",
       "         [ 0.67432897,  0.01459861],\n",
       "         [ 0.90720936,  1.19836712],\n",
       "         [-1.02920749, -1.55929379],\n",
       "         [-0.54813278, -0.39241207],\n",
       "         [ 0.98590699, -3.57100887],\n",
       "         [-0.33976363, -0.43270334],\n",
       "         [-1.29522216, -0.93551741],\n",
       "         [-1.3080473 , -1.14350806],\n",
       "         [ 1.30650827, -1.89704851],\n",
       "         [ 0.2357014 , -0.70960755],\n",
       "         [-1.27616996, -1.15229747],\n",
       "         [ 0.30003015, -1.43463906],\n",
       "         [ 0.2357014 , -0.70960755],\n",
       "         [ 1.14152797,  0.16571559],\n",
       "         [ 1.32410713, -3.46357449],\n",
       "         [ 0.08205456, -0.57684074],\n",
       "         [ 0.30003015, -1.43463906],\n",
       "         [ 1.35614047,  1.5510826 ],\n",
       "         [ 1.35614047,  1.5510826 ],\n",
       "         [-0.363129  , -0.56729178],\n",
       "         [-1.82938967, -0.74000927],\n",
       "         [ 0.90720936,  1.19836712],\n",
       "         [-2.06341027, -1.919613  ],\n",
       "         [ 0.2983303 , -1.20310229],\n",
       "         [-0.67041978, -0.3446216 ],\n",
       "         [-0.94885569, -1.24713565],\n",
       "         [ 1.43387154,  0.31274475],\n",
       "         [-1.18741188, -1.15918374],\n",
       "         [-0.363129  , -0.56729178],\n",
       "         [ 1.41992702, -2.02770251],\n",
       "         [-1.44867457, -1.30836505],\n",
       "         [ 0.26719555, -1.39258319],\n",
       "         [ 0.2357014 , -0.70960755],\n",
       "         [-0.72886413, -0.81297025],\n",
       "         [-0.94569587, -1.2050318 ],\n",
       "         [-0.82743156, -1.05630101],\n",
       "         [-0.99646764, -0.80130526],\n",
       "         [-2.3404753 , -1.42946665],\n",
       "         [ 1.35614047,  1.5510826 ],\n",
       "         [-0.33976363, -0.43270334],\n",
       "         [-0.94569587, -1.2050318 ],\n",
       "         [-0.20744578, -0.43485286],\n",
       "         [-1.68766828, -1.18131305],\n",
       "         [ 0.23440873, -1.23792282],\n",
       "         [-1.27616996, -1.15229747],\n",
       "         [-1.82938967, -0.74000927],\n",
       "         [ 1.95593053, -1.71300943],\n",
       "         [-0.89801198, -0.76152096],\n",
       "         [-1.2551872 , -1.34785289],\n",
       "         [ 1.30650827, -1.89704851],\n",
       "         [ 1.04310545,  0.01898273],\n",
       "         [-0.54813278, -0.39241207],\n",
       "         [ 1.95593053, -1.71300943],\n",
       "         [ 0.76702748, -3.59322681],\n",
       "         [ 1.34476147, -0.65122459],\n",
       "         [ 1.42010067, -0.73130767],\n",
       "         [ 1.14152797,  0.16571559],\n",
       "         [-0.16203187, -0.45303092],\n",
       "         [-0.37124564, -1.67679697],\n",
       "         [-0.16203187, -0.45303092],\n",
       "         [ 0.95210618, -0.24334078],\n",
       "         [-1.87672194, -0.24121792],\n",
       "         [-1.44867457, -1.30836505],\n",
       "         [-0.54813278, -0.39241207],\n",
       "         [ 0.76594254, -1.2104025 ],\n",
       "         [-1.02920749, -1.55929379],\n",
       "         [ 0.14552248, -0.5184148 ],\n",
       "         [ 0.64539329, -1.03533933],\n",
       "         [-0.34937655, -0.88464489],\n",
       "         [-1.3080473 , -1.14350806],\n",
       "         [-0.35118015, -0.33169791],\n",
       "         [-0.99646764, -0.80130526],\n",
       "         [-2.06341027, -1.919613  ],\n",
       "         [-1.45234318, -1.15047427],\n",
       "         [ 0.76702748, -3.59322681],\n",
       "         [ 0.98590699, -3.57100887],\n",
       "         [ 0.26719555, -1.39258319],\n",
       "         [-0.77402719, -0.9475401 ],\n",
       "         [ 1.27392667, -0.87420414],\n",
       "         [-2.06341027, -1.919613  ],\n",
       "         [-2.06341027, -1.919613  ],\n",
       "         [-0.82743156, -1.05630101],\n",
       "         [ 0.77719504, -0.89925724],\n",
       "         [-0.42752956, -1.05442826],\n",
       "         [ 0.26719555, -1.39258319],\n",
       "         [ 1.63478531,  0.33127428],\n",
       "         [-0.03768929, -0.56641441],\n",
       "         [-1.29522216, -0.93551741],\n",
       "         [ 0.26719555, -1.39258319],\n",
       "         [ 1.22433928, -0.07600776],\n",
       "         [-1.27616996, -1.15229747],\n",
       "         [-1.2551872 , -1.34785289],\n",
       "         [ 0.26719555, -1.39258319],\n",
       "         [ 1.34476147, -0.65122459],\n",
       "         [ 0.23440873, -1.23792282],\n",
       "         [ 0.68775561,  0.49205266],\n",
       "         [-0.94885569, -1.24713565],\n",
       "         [-1.2551872 , -1.34785289]]),\n",
       "  array([1, 1, 0, 0, 1, 1, 0, 1, 1, 1, 0, 1, 1, 0, 1, 0, 0, 1, 0, 0, 0, 1,\n",
       "         1, 0, 1, 0, 1, 1, 0, 1, 1, 0, 1, 0, 1, 1, 1, 1, 1, 1, 0, 1, 1, 0,\n",
       "         1, 0, 1, 1, 0, 1, 1, 0, 0, 1, 0, 0, 0, 0, 0, 1, 0, 1, 0, 1, 1, 1,\n",
       "         1, 1, 0, 0, 1, 1, 1, 1, 1, 1, 0, 0, 0, 1, 0, 1, 1, 1, 0, 1, 0, 0,\n",
       "         1, 1, 0, 0, 1, 1, 0, 0, 0, 0, 1, 1]))]"
      ]
     },
     "execution_count": 27,
     "metadata": {},
     "output_type": "execute_result"
    }
   ],
   "source": [
    "get_bootstrap(classification_data, classification_labels, 2)"
   ]
  },
  {
   "cell_type": "code",
   "execution_count": 28,
   "id": "bba68d17",
   "metadata": {},
   "outputs": [],
   "source": [
    "def get_subsample(len_sample):\n",
    "    # будем сохранять не сами признаки, а их индексы\n",
    "    sample_indexes = list(range(len_sample))\n",
    "\n",
    "    len_subsample = int(np.sqrt(len_sample))\n",
    "    \n",
    "    subsample = np.random.choice(sample_indexes, size=len_subsample, replace=False)\n",
    "\n",
    "    return subsample"
   ]
  },
  {
   "cell_type": "code",
   "execution_count": 29,
   "id": "0498de15",
   "metadata": {},
   "outputs": [
    {
     "data": {
      "text/plain": [
       "array([11, 15, 14,  1])"
      ]
     },
     "execution_count": 29,
     "metadata": {},
     "output_type": "execute_result"
    }
   ],
   "source": [
    " get_subsample(16)"
   ]
  },
  {
   "cell_type": "code",
   "execution_count": 30,
   "id": "5e3d7ee3",
   "metadata": {},
   "outputs": [],
   "source": [
    "# Реализуем класс узла\n",
    "\n",
    "class Node:\n",
    "    \n",
    "    def __init__(self, index, t, true_branch, false_branch):\n",
    "        self.index = index  # индекс признака, по которому ведется сравнение с порогом в этом узле\n",
    "        self.t = t  # значение порога\n",
    "        self.true_branch = true_branch  # поддерево, удовлетворяющее условию в узле\n",
    "        self.false_branch = false_branch  # поддерево, не удовлетворяющее условию в узле\n",
    "        \n",
    "# И класс терминального узла (листа)\n",
    "\n",
    "class Leaf:\n",
    "    \n",
    "    def __init__(self, data, labels):\n",
    "        self.data = data\n",
    "        self.labels = labels\n",
    "        self.prediction = self.predict()\n",
    "        \n",
    "    def predict(self):\n",
    "        # подсчет количества объектов разных классов\n",
    "        classes = {}  # сформируем словарь \"класс: количество объектов\"\n",
    "        for label in self.labels:\n",
    "            if label not in classes:\n",
    "                classes[label] = 0\n",
    "            classes[label] += 1\n",
    "            \n",
    "        # найдем класс, количество объектов которого будет максимальным в этом листе и вернем его    \n",
    "        prediction = max(classes, key=classes.get)\n",
    "        return prediction        \n",
    "    \n",
    "# Расчет критерия Джини\n",
    "\n",
    "def gini(labels):\n",
    "    #  подсчет количества объектов разных классов\n",
    "    classes = {}\n",
    "    for label in labels:\n",
    "        if label not in classes:\n",
    "            classes[label] = 0\n",
    "        classes[label] += 1\n",
    "    \n",
    "    #  расчет критерия\n",
    "    impurity = 1\n",
    "    for label in classes:\n",
    "        p = classes[label] / len(labels)\n",
    "        impurity -= p ** 2\n",
    "        \n",
    "    return impurity\n",
    "# Расчет прироста\n",
    "\n",
    "def gain(left_labels, right_labels, root_gini):\n",
    "\n",
    "    # доля выборки, ушедшая в левое поддерево\n",
    "    p = float(left_labels.shape[0]) / (left_labels.shape[0] + right_labels.shape[0])\n",
    "    \n",
    "    return root_gini - p * gini(left_labels) - (1 - p) * gini(right_labels)"
   ]
  },
  {
   "cell_type": "code",
   "execution_count": 31,
   "id": "11afb099",
   "metadata": {},
   "outputs": [],
   "source": [
    "# Разбиение датасета в узле\n",
    "\n",
    "def split(data, labels, column_index, t):\n",
    "    \n",
    "    left = np.where(data[:, column_index] <= t)\n",
    "    right = np.where(data[:, column_index] > t)\n",
    "        \n",
    "    true_data = data[left]\n",
    "    false_data = data[right]\n",
    "    \n",
    "    true_labels = labels[left]\n",
    "    false_labels = labels[right]\n",
    "        \n",
    "    return true_data, false_data, true_labels, false_labels"
   ]
  },
  {
   "cell_type": "code",
   "execution_count": 32,
   "id": "7f5ed1a6",
   "metadata": {},
   "outputs": [],
   "source": [
    "# Нахождение наилучшего разбиения\n",
    "\n",
    "def find_best_split(data, labels):\n",
    "    \n",
    "    #  обозначим минимальное количество объектов в узле\n",
    "    min_leaf_samples = 5\n",
    "\n",
    "    root_gini = gini(labels)\n",
    "\n",
    "    best_gain = 0\n",
    "    best_t = None\n",
    "    best_index = None\n",
    "    \n",
    "    n_features = data.shape[1]\n",
    "    \n",
    "    feature_subsample_indices = get_subsample(n_features) # выбираем случайные признаки\n",
    "    \n",
    "    for index in feature_subsample_indices:\n",
    "        # будем проверять только уникальные значения признака, исключая повторения\n",
    "        t_values = np.unique(data[:, index])\n",
    "        \n",
    "        for t in t_values:\n",
    "            true_data, false_data, true_labels, false_labels = split(data, labels, index, t)\n",
    "            #  пропускаем разбиения, в которых в узле остается менее 5 объектов\n",
    "#             if len(true_data) < min_leaf_samples or len(false_data) < min_leaf_samples:\n",
    "#                 continue\n",
    "            \n",
    "            current_gain = gain(true_labels, false_labels, root_gini)\n",
    "            \n",
    "            #  выбираем порог, на котором получается максимальный прирост качества\n",
    "            if current_gain > best_gain:\n",
    "                best_gain, best_t, best_index = current_gain, t, index\n",
    "\n",
    "    return best_gain, best_t, best_index"
   ]
  },
  {
   "cell_type": "code",
   "execution_count": 33,
   "id": "c2cb597a",
   "metadata": {},
   "outputs": [],
   "source": [
    " #Построение дерева с помощью рекурсивной функции\n",
    "\n",
    "def build_tree(data, labels):\n",
    "\n",
    "    gain, t, index = find_best_split(data, labels)\n",
    "\n",
    "    #  Базовый случай - прекращаем рекурсию, когда нет прироста в качества\n",
    "    if gain == 0:\n",
    "        return Leaf(data, labels)\n",
    "\n",
    "    true_data, false_data, true_labels, false_labels = split(data, labels, index, t)\n",
    "\n",
    "    # Рекурсивно строим два поддерева\n",
    "    true_branch = build_tree(true_data, true_labels)\n",
    "    false_branch = build_tree(false_data, false_labels)\n",
    "\n",
    "    # Возвращаем класс узла со всеми поддеревьями, то есть целого дерева\n",
    "    return Node(index, t, true_branch, false_branch)"
   ]
  },
  {
   "cell_type": "code",
   "execution_count": 30,
   "id": "5f4d83b2",
   "metadata": {},
   "outputs": [
    {
     "ename": "NameError",
     "evalue": "name 'NODE' is not defined",
     "output_type": "error",
     "traceback": [
      "\u001b[1;31m---------------------------------------------------------------------------\u001b[0m",
      "\u001b[1;31mNameError\u001b[0m                                 Traceback (most recent call last)",
      "\u001b[1;32m<ipython-input-30-64cd4f5443d7>\u001b[0m in \u001b[0;36m<module>\u001b[1;34m\u001b[0m\n\u001b[1;32m----> 1\u001b[1;33m \u001b[0mNODE\u001b[0m\u001b[1;33m(\u001b[0m\u001b[0mnode\u001b[0m \u001b[1;33m(\u001b[0m\u001b[0mnode\u001b[0m \u001b[1;33m(\u001b[0m\u001b[0mleaf\u001b[0m\u001b[1;33m)\u001b[0m\u001b[1;33m,\u001b[0m \u001b[1;33m(\u001b[0m\u001b[0mleaf\u001b[0m\u001b[1;33m)\u001b[0m\u001b[1;33m)\u001b[0m\u001b[1;33m,\u001b[0m \u001b[1;33m(\u001b[0m\u001b[0mnode\u001b[0m \u001b[1;33m(\u001b[0m\u001b[0mnode\u001b[0m \u001b[1;33m(\u001b[0m\u001b[0mleaf\u001b[0m\u001b[1;33m)\u001b[0m\u001b[1;33m,\u001b[0m \u001b[0mnode\u001b[0m \u001b[1;33m(\u001b[0m\u001b[0mleaf\u001b[0m\u001b[1;33m)\u001b[0m\u001b[1;33m)\u001b[0m\u001b[1;33m)\u001b[0m\u001b[1;33m)\u001b[0m\u001b[1;33m\u001b[0m\u001b[1;33m\u001b[0m\u001b[0m\n\u001b[0m",
      "\u001b[1;31mNameError\u001b[0m: name 'NODE' is not defined"
     ]
    }
   ],
   "source": [
    "NODE(node (node (leaf), (leaf)), (node (node (leaf), node (leaf))))"
   ]
  },
  {
   "cell_type": "code",
   "execution_count": 34,
   "id": "5c75ae44",
   "metadata": {},
   "outputs": [],
   "source": [
    "def random_forest(data, labels, n_trees):\n",
    "    forest = []\n",
    "    bootstrap = get_bootstrap(data, labels, n_trees)\n",
    "    \n",
    "    for b_data, b_labels in bootstrap:\n",
    "        forest.append(build_tree(b_data, b_labels))\n",
    "        \n",
    "    return forest"
   ]
  },
  {
   "cell_type": "code",
   "execution_count": 35,
   "id": "6781e75e",
   "metadata": {},
   "outputs": [],
   "source": [
    "# Функция классификации отдельного объекта\n",
    "\n",
    "def classify_object(obj, node):\n",
    "\n",
    "    #  Останавливаем рекурсию, если достигли листа\n",
    "    if isinstance(node, Leaf):\n",
    "        answer = node.prediction\n",
    "        return answer\n",
    "\n",
    "    if obj[node.index] <= node.t:\n",
    "        return classify_object(obj, node.true_branch)\n",
    "    else:\n",
    "        return classify_object(obj, node.false_branch)"
   ]
  },
  {
   "cell_type": "code",
   "execution_count": 15,
   "id": "e6fd0e39",
   "metadata": {},
   "outputs": [
    {
     "ename": "NameError",
     "evalue": "name 'NODE' is not defined",
     "output_type": "error",
     "traceback": [
      "\u001b[1;31m---------------------------------------------------------------------------\u001b[0m",
      "\u001b[1;31mNameError\u001b[0m                                 Traceback (most recent call last)",
      "\u001b[1;32m<ipython-input-15-64cd4f5443d7>\u001b[0m in \u001b[0;36m<module>\u001b[1;34m\u001b[0m\n\u001b[1;32m----> 1\u001b[1;33m \u001b[0mNODE\u001b[0m\u001b[1;33m(\u001b[0m\u001b[0mnode\u001b[0m \u001b[1;33m(\u001b[0m\u001b[0mnode\u001b[0m \u001b[1;33m(\u001b[0m\u001b[0mleaf\u001b[0m\u001b[1;33m)\u001b[0m\u001b[1;33m,\u001b[0m \u001b[1;33m(\u001b[0m\u001b[0mleaf\u001b[0m\u001b[1;33m)\u001b[0m\u001b[1;33m)\u001b[0m\u001b[1;33m,\u001b[0m \u001b[1;33m(\u001b[0m\u001b[0mnode\u001b[0m \u001b[1;33m(\u001b[0m\u001b[0mnode\u001b[0m \u001b[1;33m(\u001b[0m\u001b[0mleaf\u001b[0m\u001b[1;33m)\u001b[0m\u001b[1;33m,\u001b[0m \u001b[0mnode\u001b[0m \u001b[1;33m(\u001b[0m\u001b[0mleaf\u001b[0m\u001b[1;33m)\u001b[0m\u001b[1;33m)\u001b[0m\u001b[1;33m)\u001b[0m\u001b[1;33m)\u001b[0m\u001b[1;33m\u001b[0m\u001b[1;33m\u001b[0m\u001b[0m\n\u001b[0m",
      "\u001b[1;31mNameError\u001b[0m: name 'NODE' is not defined"
     ]
    }
   ],
   "source": [
    "NODE(node (node (leaf), (leaf)), (node (node (leaf), node (leaf))))"
   ]
  },
  {
   "cell_type": "code",
   "execution_count": 36,
   "id": "d5816e18",
   "metadata": {},
   "outputs": [],
   "source": [
    "# функция формирования предсказания по выборке на одном дереве\n",
    "\n",
    "def predict(data, tree):\n",
    "    \n",
    "    classes = []\n",
    "    for obj in data:\n",
    "        prediction = classify_object(obj, tree)\n",
    "        classes.append(prediction)\n",
    "    return classes\n",
    "\n",
    "\n",
    "# предсказание голосованием деревьев\n",
    "\n",
    "def tree_vote(forest, data):\n",
    "\n",
    "    # добавим предсказания всех деревьев в список\n",
    "    predictions = []\n",
    "    for tree in forest:\n",
    "        predictions.append(predict(data, tree))\n",
    "       # print(predictions)\n",
    "\n",
    "    # сформируем список с предсказаниями для каждого объекта\n",
    "    predictions_per_object = list(zip(*predictions))\n",
    "#     print(predictions_per_object)\n",
    "\n",
    "    # выберем в качестве итогового предсказания для каждого объекта то,\n",
    "    # за которое проголосовало большинство деревьев\n",
    "    voted_predictions = []\n",
    "    for obj in predictions_per_object:\n",
    "        voted_predictions.append(max(set(obj), key=obj.count))\n",
    "        \n",
    "    return voted_predictions"
   ]
  },
  {
   "cell_type": "code",
   "execution_count": null,
   "id": "211d1897",
   "metadata": {},
   "outputs": [],
   "source": []
  },
  {
   "cell_type": "code",
   "execution_count": null,
   "id": "2d44ca65",
   "metadata": {},
   "outputs": [],
   "source": []
  },
  {
   "cell_type": "code",
   "execution_count": 37,
   "id": "2d562e42",
   "metadata": {},
   "outputs": [],
   "source": [
    "# Разобьем выборку на обучающую и тестовую\n",
    "\n",
    "from sklearn.model_selection import train_test_split\n",
    "\n",
    "train_data, test_data, train_labels, test_labels = train_test_split(classification_data, \n",
    "                                                                    classification_labels, \n",
    "                                                                    test_size=0.3,\n",
    "                                                                    random_state=1)"
   ]
  },
  {
   "cell_type": "code",
   "execution_count": 38,
   "id": "501b71fc",
   "metadata": {},
   "outputs": [],
   "source": [
    "# Введем функцию подсчета точности как доли правильных ответов\n",
    "\n",
    "def accuracy_metric(actual, predicted):\n",
    "    correct = 0\n",
    "    for i in range(len(actual)):\n",
    "        if actual[i] == predicted[i]:\n",
    "            correct += 1\n",
    "    return correct / float(len(actual)) * 100.0"
   ]
  },
  {
   "cell_type": "code",
   "execution_count": 42,
   "id": "51d52bdc",
   "metadata": {},
   "outputs": [
    {
     "name": "stdout",
     "output_type": "stream",
     "text": [
      "Точность случайного леса из 1 деревьев на обучающей выборке: 94.286\n",
      "Точность случайного леса из 1 деревьев на тестовой выборке: 86.667\n",
      "Wall time: 13 ms\n"
     ]
    }
   ],
   "source": [
    "%%time\n",
    "n_trees = 1\n",
    "my_forest_1 = random_forest(train_data, train_labels, n_trees)\n",
    "# Получим ответы для обучающей выборки \n",
    "train_answers = tree_vote(my_forest_1, train_data)\n",
    "# И получим ответы для тестовой выборки\n",
    "test_answers = tree_vote(my_forest_1, test_data)\n",
    "# Точность на обучающей выборке\n",
    "train_accuracy = accuracy_metric(train_labels, train_answers)\n",
    "print(f'Точность случайного леса из {n_trees} деревьев на обучающей выборке: {train_accuracy:.3f}')\n",
    "\n",
    "# Точность на тестовой выборке\n",
    "test_accuracy = accuracy_metric(test_labels, test_answers)\n",
    "print(f'Точность случайного леса из {n_trees} деревьев на тестовой выборке: {test_accuracy:.3f}')"
   ]
  },
  {
   "cell_type": "code",
   "execution_count": 43,
   "id": "bebd4b08",
   "metadata": {},
   "outputs": [
    {
     "name": "stderr",
     "output_type": "stream",
     "text": [
      "<ipython-input-41-8aa0fd1f31b8>:16: MatplotlibDeprecationWarning: shading='flat' when X and Y have the same dimensions as C is deprecated since 3.3.  Either specify the corners of the quadrilaterals with X and Y, or pass shading='auto', 'nearest' or 'gouraud', or set rcParams['pcolor.shading'].  This will become an error two minor releases later.\n",
      "  plt.pcolormesh(xx, yy, mesh_predictions, cmap = light_colors)\n",
      "<ipython-input-41-8aa0fd1f31b8>:22: MatplotlibDeprecationWarning: shading='flat' when X and Y have the same dimensions as C is deprecated since 3.3.  Either specify the corners of the quadrilaterals with X and Y, or pass shading='auto', 'nearest' or 'gouraud', or set rcParams['pcolor.shading'].  This will become an error two minor releases later.\n",
      "  plt.pcolormesh(xx, yy, mesh_predictions, cmap = light_colors)\n"
     ]
    },
    {
     "data": {
      "image/png": "[encoded data removed]",
      "text/plain": [
       "<Figure size 1152x504 with 2 Axes>"
      ]
     },
     "metadata": {
      "needs_background": "light"
     },
     "output_type": "display_data"
    }
   ],
   "source": [
    "visualize(train_data, test_data)"
   ]
  },
  {
   "cell_type": "code",
   "execution_count": 44,
   "id": "23cb1409",
   "metadata": {},
   "outputs": [
    {
     "name": "stdout",
     "output_type": "stream",
     "text": [
      "Точность случайного леса из 3 деревьев на обучающей выборке: 98.571\n",
      "Точность случайного леса из 3 деревьев на тестовой выборке: 83.333\n",
      "Wall time: 35.9 ms\n"
     ]
    }
   ],
   "source": [
    "%%time\n",
    "n_trees = 3\n",
    "my_forest_3 = random_forest(train_data, train_labels, n_trees)\n",
    "# Получим ответы для обучающей выборки \n",
    "train_answers = tree_vote(my_forest_3, train_data)\n",
    "# И получим ответы для тестовой выборки\n",
    "test_answers = tree_vote(my_forest_3, test_data)\n",
    "# Точность на обучающей выборке\n",
    "train_accuracy = accuracy_metric(train_labels, train_answers)\n",
    "print(f'Точность случайного леса из {n_trees} деревьев на обучающей выборке: {train_accuracy:.3f}')\n",
    "\n",
    "# Точность на тестовой выборке\n",
    "test_accuracy = accuracy_metric(test_labels, test_answers)\n",
    "print(f'Точность случайного леса из {n_trees} деревьев на тестовой выборке: {test_accuracy:.3f}')"
   ]
  },
  {
   "cell_type": "code",
   "execution_count": 45,
   "id": "273780fc",
   "metadata": {},
   "outputs": [
    {
     "name": "stderr",
     "output_type": "stream",
     "text": [
      "<ipython-input-41-8aa0fd1f31b8>:16: MatplotlibDeprecationWarning: shading='flat' when X and Y have the same dimensions as C is deprecated since 3.3.  Either specify the corners of the quadrilaterals with X and Y, or pass shading='auto', 'nearest' or 'gouraud', or set rcParams['pcolor.shading'].  This will become an error two minor releases later.\n",
      "  plt.pcolormesh(xx, yy, mesh_predictions, cmap = light_colors)\n",
      "<ipython-input-41-8aa0fd1f31b8>:22: MatplotlibDeprecationWarning: shading='flat' when X and Y have the same dimensions as C is deprecated since 3.3.  Either specify the corners of the quadrilaterals with X and Y, or pass shading='auto', 'nearest' or 'gouraud', or set rcParams['pcolor.shading'].  This will become an error two minor releases later.\n",
      "  plt.pcolormesh(xx, yy, mesh_predictions, cmap = light_colors)\n"
     ]
    },
    {
     "data": {
      "image/png": "[encoded data removed]",
      "text/plain": [
       "<Figure size 1152x504 with 2 Axes>"
      ]
     },
     "metadata": {
      "needs_background": "light"
     },
     "output_type": "display_data"
    }
   ],
   "source": [
    "visualize(train_data, test_data)"
   ]
  },
  {
   "cell_type": "code",
   "execution_count": 46,
   "id": "0afc6c82",
   "metadata": {},
   "outputs": [
    {
     "name": "stdout",
     "output_type": "stream",
     "text": [
      "Точность случайного леса из 10 деревьев на обучающей выборке: 98.571\n",
      "Точность случайного леса из 10 деревьев на тестовой выборке: 86.667\n",
      "Wall time: 133 ms\n"
     ]
    }
   ],
   "source": [
    "%%time\n",
    "n_trees = 10\n",
    "my_forest_10 = random_forest(train_data, train_labels, n_trees)\n",
    "# Получим ответы для обучающей выборки \n",
    "train_answers = tree_vote(my_forest_10, train_data)\n",
    "# И получим ответы для тестовой выборки\n",
    "test_answers = tree_vote(my_forest_10, test_data)\n",
    "# Точность на обучающей выборке\n",
    "train_accuracy = accuracy_metric(train_labels, train_answers)\n",
    "print(f'Точность случайного леса из {n_trees} деревьев на обучающей выборке: {train_accuracy:.3f}')\n",
    "\n",
    "# Точность на тестовой выборке\n",
    "test_accuracy = accuracy_metric(test_labels, test_answers)\n",
    "print(f'Точность случайного леса из {n_trees} деревьев на тестовой выборке: {test_accuracy:.3f}')"
   ]
  },
  {
   "cell_type": "code",
   "execution_count": 47,
   "id": "dea4ae94",
   "metadata": {},
   "outputs": [
    {
     "name": "stderr",
     "output_type": "stream",
     "text": [
      "<ipython-input-41-8aa0fd1f31b8>:16: MatplotlibDeprecationWarning: shading='flat' when X and Y have the same dimensions as C is deprecated since 3.3.  Either specify the corners of the quadrilaterals with X and Y, or pass shading='auto', 'nearest' or 'gouraud', or set rcParams['pcolor.shading'].  This will become an error two minor releases later.\n",
      "  plt.pcolormesh(xx, yy, mesh_predictions, cmap = light_colors)\n",
      "<ipython-input-41-8aa0fd1f31b8>:22: MatplotlibDeprecationWarning: shading='flat' when X and Y have the same dimensions as C is deprecated since 3.3.  Either specify the corners of the quadrilaterals with X and Y, or pass shading='auto', 'nearest' or 'gouraud', or set rcParams['pcolor.shading'].  This will become an error two minor releases later.\n",
      "  plt.pcolormesh(xx, yy, mesh_predictions, cmap = light_colors)\n"
     ]
    },
    {
     "data": {
      "image/png": "[encoded data removed]",
      "text/plain": [
       "<Figure size 1152x504 with 2 Axes>"
      ]
     },
     "metadata": {
      "needs_background": "light"
     },
     "output_type": "display_data"
    }
   ],
   "source": [
    "visualize(train_data, test_data)"
   ]
  },
  {
   "cell_type": "code",
   "execution_count": null,
   "id": "be21ada3",
   "metadata": {},
   "outputs": [],
   "source": []
  },
  {
   "cell_type": "code",
   "execution_count": 40,
   "id": "ab89e408",
   "metadata": {},
   "outputs": [
    {
     "name": "stdout",
     "output_type": "stream",
     "text": [
      "Точность случайного леса из 50 деревьев на обучающей выборке: 100.000\n",
      "Точность случайного леса из 50 деревьев на тестовой выборке: 86.667\n",
      "Wall time: 592 ms\n"
     ]
    }
   ],
   "source": [
    "%%time\n",
    "n_trees = 50\n",
    "my_forest_50 = random_forest(train_data, train_labels, n_trees)\n",
    "# Получим ответы для обучающей выборки \n",
    "train_answers = tree_vote(my_forest_50, train_data)\n",
    "# И получим ответы для тестовой выборки\n",
    "test_answers = tree_vote(my_forest_50, test_data)\n",
    "# Точность на обучающей выборке\n",
    "train_accuracy = accuracy_metric(train_labels, train_answers)\n",
    "print(f'Точность случайного леса из {n_trees} деревьев на обучающей выборке: {train_accuracy:.3f}')\n",
    "\n",
    "# Точность на тестовой выборке\n",
    "test_accuracy = accuracy_metric(test_labels, test_answers)\n",
    "print(f'Точность случайного леса из {n_trees} деревьев на тестовой выборке: {test_accuracy:.3f}')"
   ]
  },
  {
   "cell_type": "code",
   "execution_count": null,
   "id": "611fe8f6",
   "metadata": {},
   "outputs": [],
   "source": []
  },
  {
   "cell_type": "code",
   "execution_count": 41,
   "id": "37467683",
   "metadata": {},
   "outputs": [],
   "source": [
    "\n",
    "def get_meshgrid(data, step=.05, border=1.2):\n",
    "    x_min, x_max = data[:, 0].min() - border, data[:, 0].max() + border\n",
    "    y_min, y_max = data[:, 1].min() - border, data[:, 1].max() + border\n",
    "    return np.meshgrid(np.arange(x_min, x_max, step), np.arange(y_min, y_max, step))\n",
    "\n",
    "colors = ListedColormap(['red', 'blue'])\n",
    "light_colors = ListedColormap(['lightcoral', 'lightblue'])\n",
    "\n",
    "def visualize(train_data, test_data):\n",
    "    plt.figure(figsize = (16, 7))\n",
    "\n",
    "    # график обучающей выборки\n",
    "    plt.subplot(1,2,1)\n",
    "    xx, yy = get_meshgrid(train_data)\n",
    "    mesh_predictions = np.array(tree_vote(my_forest_50,np.c_[xx.ravel(), yy.ravel()] )).reshape(xx.shape)\n",
    "    plt.pcolormesh(xx, yy, mesh_predictions, cmap = light_colors)\n",
    "    plt.scatter(train_data[:, 0], train_data[:, 1], c = train_labels, cmap = colors)\n",
    "    plt.title(f'Train accuracy={train_accuracy:.2f}')\n",
    "\n",
    "    # график тестовой выборки\n",
    "    plt.subplot(1,2,2)\n",
    "    plt.pcolormesh(xx, yy, mesh_predictions, cmap = light_colors)\n",
    "    plt.scatter(test_data[:, 0], test_data[:, 1], c = test_labels, cmap = colors)\n",
    "    plt.title(f'Test accuracy={test_accuracy:.2f}')"
   ]
  },
  {
   "cell_type": "code",
   "execution_count": 23,
   "id": "60033413",
   "metadata": {},
   "outputs": [
    {
     "name": "stderr",
     "output_type": "stream",
     "text": [
      "<ipython-input-22-8aa0fd1f31b8>:16: MatplotlibDeprecationWarning: shading='flat' when X and Y have the same dimensions as C is deprecated since 3.3.  Either specify the corners of the quadrilaterals with X and Y, or pass shading='auto', 'nearest' or 'gouraud', or set rcParams['pcolor.shading'].  This will become an error two minor releases later.\n",
      "  plt.pcolormesh(xx, yy, mesh_predictions, cmap = light_colors)\n",
      "<ipython-input-22-8aa0fd1f31b8>:22: MatplotlibDeprecationWarning: shading='flat' when X and Y have the same dimensions as C is deprecated since 3.3.  Either specify the corners of the quadrilaterals with X and Y, or pass shading='auto', 'nearest' or 'gouraud', or set rcParams['pcolor.shading'].  This will become an error two minor releases later.\n",
      "  plt.pcolormesh(xx, yy, mesh_predictions, cmap = light_colors)\n"
     ]
    },
    {
     "data": {
      "image/png": "[encoded data removed]",
      "text/plain": [
       "<Figure size 1152x504 with 2 Axes>"
      ]
     },
     "metadata": {
      "needs_background": "light"
     },
     "output_type": "display_data"
    }
   ],
   "source": [
    "visualize(train_data, test_data)"
   ]
  },
  {
   "cell_type": "markdown",
   "id": "18f943c5",
   "metadata": {},
   "source": [
    "Вывод: не увидела вообще разница в гиперплоскости при 1 дереве или 10. А вот при 50 деревьях очевидно наличие переобучение, так как модель максимально охватила (\"обтекла\") имеющиеся тренировочные данные, что привело к тому, что на тесте чуть выходят за диапазон данные, а уже не охватываются. "
   ]
  }
 ],
 "metadata": {
  "kernelspec": {
   "display_name": "Python 3",
   "language": "python",
   "name": "python3"
  },
  "language_info": {
   "codemirror_mode": {
    "name": "ipython",
    "version": 3
   },
   "file_extension": ".py",
   "mimetype": "text/x-python",
   "name": "python",
   "nbconvert_exporter": "python",
   "pygments_lexer": "ipython3",
   "version": "3.8.8"
  }
 },
 "nbformat": 4,
 "nbformat_minor": 5
}
