{
 "cells": [
  {
   "cell_type": "code",
   "execution_count": 1,
   "metadata": {},
   "outputs": [],
   "source": [
    "import numpy as np\n",
    "import matplotlib.pyplot as plt"
   ]
  },
  {
   "cell_type": "code",
   "execution_count": 2,
   "metadata": {},
   "outputs": [],
   "source": [
    "X = np.array([[   1,    1,  500,    1],\n",
    "              [   1,    1,  700,    1],\n",
    "              [   1,    2,  750,    2],\n",
    "              [   1,    5,  600,    1],\n",
    "              [   1,    3, 1450,    2],\n",
    "              [   1,    0,  800,    1],\n",
    "              [   1,    5, 1500,    3],\n",
    "              [   1,   10, 2000,    3],\n",
    "              [   1,    1,  450,    1],\n",
    "              [   1,    2, 1000,    2]])\n",
    "\n",
    "y = [45, 55, 50, 55, 60, 35, 75, 80, 50, 60]"
   ]
  },
  {
   "cell_type": "code",
   "execution_count": 3,
   "metadata": {},
   "outputs": [
    {
     "data": {
      "text/plain": [
       "array([[ 1.        , -0.70710678, -0.97958969, -0.89625816],\n",
       "       [ 1.        , -0.70710678, -0.56713087, -0.89625816],\n",
       "       [ 1.        , -0.35355339, -0.46401617,  0.38411064],\n",
       "       [ 1.        ,  0.70710678, -0.77336028, -0.89625816],\n",
       "       [ 1.        ,  0.        ,  0.97958969,  0.38411064],\n",
       "       [ 1.        , -1.06066017, -0.36090146, -0.89625816],\n",
       "       [ 1.        ,  0.70710678,  1.08270439,  1.66447944],\n",
       "       [ 1.        ,  2.47487373,  2.11385144,  1.66447944],\n",
       "       [ 1.        , -0.70710678, -1.08270439, -0.89625816],\n",
       "       [ 1.        , -0.35355339,  0.05155735,  0.38411064]])"
      ]
     },
     "execution_count": 3,
     "metadata": {},
     "output_type": "execute_result"
    }
   ],
   "source": [
    "def standard_scale(X):\n",
    "    mean = X.mean()\n",
    "    std = X.std()\n",
    "    return (X - mean) / std\n",
    "X_st = X.copy().astype(np.float64)\n",
    "X_st[:, 1] = standard_scale(X_st[:, 1])\n",
    "X_st[:, 2] = standard_scale(X_st[:, 2])\n",
    "X_st[:, 3] = standard_scale(X_st[:, 3])\n",
    "\n",
    "X_st"
   ]
  },
  {
   "cell_type": "code",
   "execution_count": 4,
   "metadata": {},
   "outputs": [
    {
     "data": {
      "text/plain": [
       "array([-0.99666938, -0.36654775, -1.97775417, -0.84934938])"
      ]
     },
     "execution_count": 4,
     "metadata": {},
     "output_type": "execute_result"
    }
   ],
   "source": [
    "def calc_mse(y, y_pred):\n",
    "    err = np.mean((y - y_pred)**2)\n",
    "    return err\n",
    "\n",
    "W = np.random.randn(X.shape[1])\n",
    "W"
   ]
  },
  {
   "cell_type": "code",
   "execution_count": 5,
   "metadata": {},
   "outputs": [],
   "source": [
    "# стохастический градиентный спуск\n",
    "def stohastic_gradient_descent(X, y, iterations, batch_size, eta=1e-4):\n",
    "    W = np.random.randn(X.shape[1])\n",
    "    n = X.shape[0]\n",
    "    \n",
    "    n_batch = n // batch_size    \n",
    "    if n % batch_size != 0:\n",
    "        n_batch += 1\n",
    "    print(f'amount of batches is {n_batch}')\n",
    "        \n",
    "    for i in range(0, iterations):\n",
    "        \n",
    "        for b in range(n_batch):\n",
    "            start = batch_size * b\n",
    "            end = batch_size * (b + 1)\n",
    "            \n",
    "#             print(b, start, end)\n",
    "            \n",
    "            X_tmp = X[start : end, ]\n",
    "            y_tmp = y[start : end]\n",
    "\n",
    "            err = calc_mse(y, np.dot(X, W))\n",
    "            \n",
    "            y_pred_tmp = np.dot(X_tmp, W)\n",
    "            dQ = 2/len(y_tmp) * X_tmp.T @ (y_pred_tmp - y_tmp) # градиент функции ошибки\n",
    "            W -= (eta * dQ)\n",
    "        \n",
    "        if i % (iterations / 10) == 0:\n",
    "            print(f'Iter: {i}, weights: {W}, error {err}')\n",
    "    \n",
    "    print(f'Final MSE: {calc_mse(y, np.dot(X, W))}')\n",
    "    return W"
   ]
  },
  {
   "cell_type": "code",
   "execution_count": 6,
   "metadata": {},
   "outputs": [
    {
     "name": "stdout",
     "output_type": "stream",
     "text": [
      "amount of batches is 3\n",
      "Iter: 0, weights: [ 3.0986442   0.65191905 -0.55350375  0.53288255], error 3089.8665795997254\n",
      "Iter: 500, weights: [57.05966446  6.07559376 -0.76217876  6.94902162], error 25.238263236871205\n",
      "Iter: 1000, weights: [57.05298076  6.12290095 -0.96161828  7.11162657], error 25.264135938665415\n",
      "Iter: 1500, weights: [57.05250522  6.12619777 -0.97571944  7.12316817], error 25.26650885713548\n",
      "Iter: 2000, weights: [57.05247156  6.1264311  -0.9767175   7.12398508], error 25.266679485288908\n",
      "Iter: 2500, weights: [57.05246918  6.12644762 -0.97678814  7.1240429 ], error 25.266691575552\n",
      "Iter: 3000, weights: [57.05246901  6.12644879 -0.97679314  7.12404699], error 25.266692431354393\n",
      "Iter: 3500, weights: [57.052469    6.12644887 -0.9767935   7.12404728], error 25.26669249192746\n",
      "Iter: 4000, weights: [57.052469    6.12644888 -0.97679352  7.1240473 ], error 25.26669249621478\n",
      "Iter: 4500, weights: [57.052469    6.12644888 -0.97679352  7.1240473 ], error 25.266692496518196\n",
      "Final MSE: 25.350670220452812\n"
     ]
    },
    {
     "data": {
      "text/plain": [
       "array([57.052469  ,  6.12644888, -0.97679353,  7.1240473 ])"
      ]
     },
     "execution_count": 6,
     "metadata": {},
     "output_type": "execute_result"
    }
   ],
   "source": [
    "stohastic_gradient_descent(X_st, y, iterations=5000, batch_size=4, eta=1e-2)"
   ]
  },
  {
   "cell_type": "code",
   "execution_count": 7,
   "metadata": {},
   "outputs": [],
   "source": [
    "def gradient_descent_reg_l2(X, y, iterations, eta=1e-4, reg=1e-8):\n",
    "    W = np.random.randn(X.shape[1])\n",
    "    n = X.shape[0]\n",
    "    \n",
    "    for i in range(0, iterations):\n",
    "        y_pred = np.dot(X, W)\n",
    "        err = calc_mse(y, y_pred)\n",
    "        \n",
    "        dQ = 2/n * X.T @ (y_pred - y) # градиент функции ошибки\n",
    "        dReg = reg * W # градиент регуляризации\n",
    "        \n",
    "        W -= eta * (dQ + dReg)\n",
    "        \n",
    "        if i % (iterations / 10) == 0:\n",
    "            print(f'Iter: {i}, weights: {W}, error {err}')\n",
    "    \n",
    "    print(f'Final MSE: {calc_mse(y, np.dot(X, W))}')\n",
    "    return W"
   ]
  },
  {
   "cell_type": "code",
   "execution_count": 8,
   "metadata": {},
   "outputs": [
    {
     "name": "stdout",
     "output_type": "stream",
     "text": [
      "Iter: 0, weights: [ 0.91726659  0.2429124  -0.24997404  0.51140422], error 3379.910235034253\n",
      "Iter: 500, weights: [56.49489619  5.95006067  0.99702636  5.52339786], error 25.219532016063134\n",
      "Iter: 1000, weights: [56.49717505  6.19949201  0.12430239  6.1783235 ], error 24.94525715622309\n",
      "Iter: 1500, weights: [56.49717514  6.26656455 -0.18255095  6.4282528 ], error 24.90996333313266\n",
      "Iter: 2000, weights: [56.49717514  6.28953561 -0.29258083  6.51889964], error 24.90534630692182\n",
      "Iter: 2500, weights: [56.49717514  6.29774044 -0.33214669  6.5515483 ], error 24.904730762770733\n",
      "Iter: 3000, weights: [56.49717514  6.30068918 -0.34638001  6.56329594], error 24.9046446268955\n",
      "Iter: 3500, weights: [56.49717514  6.30174987 -0.35150055  6.56752238], error 24.904631151810424\n",
      "Iter: 4000, weights: [56.49717514  6.30213146 -0.35334272  6.56904289], error 24.904628570703952\n",
      "Iter: 4500, weights: [56.49717514  6.30226874 -0.35400547  6.56958992], error 24.90462793549744\n",
      "Final MSE: 24.904627744945806\n"
     ]
    },
    {
     "data": {
      "text/plain": [
       "array([56.49717514,  6.30231807, -0.35424362,  6.56978649])"
      ]
     },
     "execution_count": 8,
     "metadata": {},
     "output_type": "execute_result"
    }
   ],
   "source": [
    "gradient_descent_reg_l2(X_st, y, iterations=5000, eta=1e-2, reg=1e-4)"
   ]
  },
  {
   "cell_type": "code",
   "execution_count": 31,
   "metadata": {},
   "outputs": [
    {
     "name": "stdout",
     "output_type": "stream",
     "text": [
      "Iter: 0, weights: [-0.67618301  0.64864984  0.1975439   1.17844917], error 3534.504940277226\n",
      "Iter: 500, weights: [56.49737204  5.95318477  0.9590995   5.55942234], error 25.201551533180098\n",
      "Iter: 1000, weights: [56.49971741  6.20266185  0.10918732  6.19097355], error 24.94271452611036\n",
      "Iter: 1500, weights: [56.4997175   6.26820552 -0.189099    6.43359758], error 24.90956061255453\n",
      "Iter: 2000, weights: [56.4997175   6.29055553 -0.29606954  6.52170721], error 24.90526185908511\n",
      "Iter: 2500, weights: [56.4997175   6.29853634 -0.33455081  6.55346003], error 24.904703231638354\n",
      "Iter: 3000, weights: [56.4997175   6.30140557 -0.3484001   6.56489067], error 24.904630234903944\n",
      "Iter: 3500, weights: [56.4997175   6.30243811 -0.35338474  6.56900493], error 24.904620552011785\n",
      "Iter: 4000, weights: [56.4997175   6.30280974 -0.35517882  6.57048575], error 24.904619216106774\n",
      "Iter: 4500, weights: [56.4997175   6.3029435  -0.35582456  6.57101874], error 24.90461901370055\n",
      "Final MSE: 24.904618976917344\n",
      "Iter: 0, weights: [-0.70710604  1.97188833  0.02287799  0.57780312], error 3527.72314797389\n",
      "Iter: 500, weights: [56.49699361  6.01113989  0.95013492  5.51334031], error 25.203236114676635\n",
      "Iter: 1000, weights: [56.49934007  6.20492306  0.11192546  6.18598728], error 24.943317415111117\n",
      "Iter: 1500, weights: [56.49934017  6.26800912 -0.18765476  6.43227625], error 24.909649599548043\n",
      "Iter: 2000, weights: [56.49934017  6.2903732  -0.29536654  6.52113058], error 24.905277337875003\n",
      "Iter: 2500, weights: [56.49934017  6.2984046  -0.33412647  6.5531202 ], error 24.904706895520924\n",
      "Iter: 3000, weights: [56.49934017  6.30129421 -0.34807587  6.56463382], error 24.904631526803364\n",
      "Iter: 3500, weights: [56.49934017  6.30233413 -0.35309624  6.56877759], error 24.90462123157237\n",
      "Iter: 4000, weights: [56.49934017  6.30270839 -0.35490307  6.57026893], error 24.90461970626469\n",
      "Iter: 4500, weights: [56.49934017  6.30284309 -0.35555334  6.57080566], error 24.904619439669712\n",
      "Final MSE: 24.90461938029607\n",
      "Iter: 0, weights: [2.4081327  0.54974729 1.35591149 2.04524746], error 3143.2743759381656\n",
      "Iter: 500, weights: [56.49624045  5.89846206  1.06693119  5.50117187], error 25.2505403412189\n",
      "Iter: 1000, weights: [56.49845875  6.19342383  0.14511601  6.16292467], error 24.948750967968586\n",
      "Iter: 1500, weights: [56.49845884  6.26522    -0.17580486  6.42274094], error 24.91037805197908\n",
      "Iter: 2000, weights: [56.49845884  6.28929855 -0.2907342   6.51734354], error 24.90538288351892\n",
      "Iter: 2500, weights: [56.49845884  6.29787318 -0.33206251  6.55144239], error 24.904725836922676\n",
      "Iter: 3000, weights: [56.49845884  6.30095411 -0.34693278  6.56371553], error 24.904637071488086\n",
      "Iter: 3500, weights: [56.49845884  6.30206252 -0.35228367  6.56813209], error 24.90462425094524\n",
      "Iter: 4000, weights: [56.49845884  6.30246137 -0.35420915  6.56972136], error 24.904622113493325\n",
      "Iter: 4500, weights: [56.49845884  6.30260489 -0.35490202  6.57029325], error 24.90462166494716\n",
      "Final MSE: 24.9046215450546\n",
      "Iter: 0, weights: [-0.57383799  0.59235458  1.05780162  0.92976735], error 3512.1248995871492\n",
      "Iter: 500, weights: [56.49406068  5.90036716  1.18637936  5.37701955], error 25.31379337564624\n",
      "Iter: 1000, weights: [56.49640031  6.18492561  0.19162588  6.12328252], error 24.957439510605376\n",
      "Iter: 1500, weights: [56.4964004   6.26137355 -0.15805955  6.40808569], error 24.91157790665917\n",
      "Iter: 2000, weights: [56.4964004   6.28754781 -0.28342934  6.51136951], error 24.905572468786183\n",
      "Iter: 2500, weights: [56.4964004   6.29689525 -0.32850506  6.54856471], error 24.904769321864116\n",
      "Iter: 3000, weights: [56.4964004   6.30025417 -0.34471824  6.56194646], error 24.904656013919265\n",
      "Iter: 3500, weights: [56.4964004   6.30146224 -0.35055026  6.56676014], error 24.904637976130015\n",
      "Iter: 4000, weights: [56.4964004   6.30189679 -0.3526481   6.56849168], error 24.90463442757394\n",
      "Iter: 4500, weights: [56.4964004   6.3020531  -0.35340272  6.56911454], error 24.904633531510967\n",
      "Final MSE: 24.90463325840677\n",
      "Iter: 0, weights: [ 1.20476019 -0.89256911  1.23736956 -0.60119635], error 3366.029916636276\n",
      "Iter: 500, weights: [56.48932841  5.80451911  1.55835876  5.08749994], error 25.535190940194546\n",
      "Iter: 1000, weights: [56.49159297  6.15577579  0.32515263  6.01409173], error 24.986375322020372\n",
      "Iter: 1500, weights: [56.49159306  6.25042344 -0.10814322  6.36706727], error 24.915572524239572\n",
      "Iter: 2000, weights: [56.49159306  6.28282602 -0.26336493  6.49494796], error 24.90621905842749\n",
      "Iter: 2500, weights: [56.49159306  6.29438921 -0.31912652  6.54096104], error 24.904935494729745\n",
      "Iter: 3000, weights: [56.49159306  6.29854086 -0.3391662   6.55750104], error 24.90474260449232\n",
      "Iter: 3500, weights: [56.49159306  6.30003277 -0.34636849  6.56344574], error 24.90470795207883\n",
      "Iter: 4000, weights: [56.49159306  6.30056896 -0.34895703  6.5655823 ], error 24.904699976638152\n",
      "Iter: 4500, weights: [56.49159306  6.30076167 -0.34988737  6.56635019], error 24.904697688760855\n",
      "Final MSE: 24.90469694121675\n",
      "Iter: 0, weights: [0.95592162 0.1779014  0.83939619 0.49273797], error 3354.0408443759816\n",
      "Iter: 500, weights: [56.47809786  5.88598388  1.23748784  5.33711999], error 25.341992322747945\n",
      "Iter: 1000, weights: [56.48036753  6.17801534  0.21550627  6.10411037], error 24.96252766330103\n",
      "Iter: 1500, weights: [56.48036763  6.2563233  -0.14276278  6.39592026], error 24.91306626129108\n",
      "Iter: 2000, weights: [56.48036763  6.28306339 -0.27084682  6.50144098], error 24.906300495000224\n",
      "Iter: 2500, weights: [56.48036763  6.29258605 -0.31676769  6.53933363], error 24.90528518525999\n",
      "Iter: 3000, weights: [56.48036763  6.29599822 -0.33323795  6.55292755], error 24.90510259615455\n",
      "Iter: 3500, weights: [56.48036763  6.29722196 -0.33914562  6.55780367], error 24.905060466239036\n",
      "Iter: 4000, weights: [56.48036763  6.29766089 -0.34126463  6.55955269], error 24.90504836048276\n",
      "Iter: 4500, weights: [56.48036763  6.29781833 -0.3420247   6.56018005], error 24.90504440499249\n",
      "Final MSE: 24.905043035952854\n",
      "Iter: 0, weights: [ 0.25194575 -0.03085804 -0.88668473  0.13016363], error 3488.4042283404706\n",
      "Iter: 500, weights: [56.4518789   5.96089785  0.94950443  5.55810014], error 25.20064352032728\n",
      "Iter: 1000, weights: [56.45416543  6.19488341  0.12386062  6.17959099], error 24.947319674614672\n",
      "Iter: 1500, weights: [56.45416552  6.25779637 -0.16443602  6.41450455], error 24.913245374822804\n",
      "Iter: 2000, weights: [56.45416552  6.27921108 -0.26703634  6.49903567], error 24.90814950372657\n",
      "Iter: 2500, weights: [56.45416552  6.28680355 -0.30365054  6.52924896], error 24.90723072468106\n",
      "Iter: 3000, weights: [56.45416552  6.28951155 -0.31672189  6.54003756], error 24.90701747530914\n",
      "Iter: 3500, weights: [56.45416552  6.29047824 -0.32138864  6.54388945], error 24.906955969539702\n",
      "Iter: 4000, weights: [56.45416552  6.29082337 -0.32305479  6.54526467], error 24.906935875188328\n",
      "Iter: 4500, weights: [56.45416552  6.29094658 -0.32364964  6.54575566], error 24.906928938692637\n",
      "Final MSE: 24.90692649248725\n",
      "Iter: 0, weights: [ 2.11340583 -0.24453372  0.13911707 -0.80392512], error 3277.724054831576\n",
      "Iter: 500, weights: [56.39087521  5.87561871  1.33965978  5.23523498], error 25.41490464091888\n",
      "Iter: 1000, weights: [56.39305921  6.1546334   0.28456529  6.04849402], error 24.98854175363379\n",
      "Iter: 1500, weights: [56.3930593   6.23357883 -0.08190395  6.34808332], error 24.929468285457613\n",
      "Iter: 2000, weights: [56.3930593   6.26047611 -0.21101958  6.45450933], error 24.919895681897348\n",
      "Iter: 2500, weights: [56.3930593   6.26992594 -0.25660336  6.4921266 ], error 24.91792228710777\n",
      "Iter: 3000, weights: [56.3930593   6.27326082 -0.27270123  6.50541332], error 24.917400849188866\n",
      "Iter: 3500, weights: [56.3930593   6.27443847 -0.27838642  6.51010581], error 24.917238582615962\n",
      "Iter: 4000, weights: [56.3930593   6.27485437 -0.28039424  6.51176305], error 24.917184005428506\n",
      "Iter: 4500, weights: [56.3930593   6.27500125 -0.28110333  6.51234833], error 24.917165071091212\n",
      "Final MSE: 24.917158426588664\n",
      "Iter: 0, weights: [ 1.8275671  -1.03815062  0.54265886  0.08626928], error 3297.925538302084\n",
      "Iter: 500, weights: [56.24871223  5.81519369  1.34352135  5.27699623], error 25.46584261758289\n",
      "Iter: 1000, weights: [56.25084613  6.12662984  0.33026074  6.01657855], error 25.050290077429565\n",
      "Iter: 1500, weights: [ 5.62508462e+01  6.20177874e+00 -8.54176316e-03  6.29148888e+00], error 24.9886562997274\n",
      "Iter: 2000, weights: [56.25084622  6.22608353 -0.12470322  6.38713607], error 24.976769600579726\n",
      "Iter: 2500, weights: [56.25084622  6.23437519 -0.16467517  6.42011731], error 24.97378075858329\n",
      "Iter: 3000, weights: [56.25084622  6.23722636 -0.17843691  6.43147561], error 24.972882421702145\n",
      "Iter: 3500, weights: [56.25084622  6.23820788 -0.18317523  6.43538656], error 24.972588608520024\n",
      "Iter: 4000, weights: [56.25084622  6.23854582 -0.18480669  6.43673316], error 24.97248928134437\n",
      "Iter: 4500, weights: [56.25084622  6.23866218 -0.18536843  6.43719681], error 24.972455299315474\n",
      "Final MSE: 24.972443624623157\n",
      "Iter: 0, weights: [ 2.04426991  0.9885017  -1.50375633  1.25841961], error 3244.9613096946805\n",
      "Iter: 500, weights: [55.91946515  5.96753124  0.72966918  5.73205357], error 25.450894159741857\n",
      "Iter: 1000, weights: [55.92145388  6.10933436  0.24692072  6.09067755], error 25.306829190662334\n",
      "Iter: 1500, weights: [55.92145395  6.14290008  0.09418273  6.21490979], error 25.27842159327267\n",
      "Iter: 2000, weights: [5.59214540e+01 6.15321792e+00 4.48006965e-02 6.25558470e+00], error 25.27098801150961\n",
      "Iter: 2500, weights: [5.59214540e+01 6.15653951e+00 2.87849117e-02 6.26880012e+00], error 25.268762145980723\n",
      "Iter: 3000, weights: [5.59214540e+01 6.15761613e+00 2.35882932e-02 6.27308920e+00], error 25.2680594118053\n",
      "Iter: 3500, weights: [5.59214540e+01 6.15796542e+00 2.19020472e-02 6.27448101e+00], error 25.267833434283766\n",
      "Iter: 4000, weights: [5.59214540e+01 6.15807876e+00 2.13548739e-02 6.27493264e+00], error 25.267760322446552\n",
      "Iter: 4500, weights: [5.59214540e+01 6.15811554e+00 2.11773203e-02 6.27507919e+00], error 25.26773662095935\n",
      "Final MSE: 25.2677289324004\n",
      "Iter: 0, weights: [ 0.84027835  0.26746383 -1.26445031  1.20367758], error 3395.3829104731385\n",
      "Iter: 500, weights: [55.16516929  5.81524095  1.00540955  5.53112077], error 27.03066347938186\n",
      "Iter: 1000, weights: [55.16691079  5.95475254  0.5860836   5.82706246], error 26.856132965859366\n",
      "Iter: 1500, weights: [55.16691084  5.98051611  0.47190451  5.91929225], error 26.820328550563538\n",
      "Iter: 2000, weights: [55.16691084  5.98724706  0.43981891  5.94569473], error 26.81109492177486\n",
      "Iter: 2500, weights: [55.16691084  5.9891267   0.43076106  5.95316778], error 26.80855436202675\n",
      "Iter: 3000, weights: [55.16691084  5.98965685  0.42820233  5.95527961], error 26.807841955285216\n",
      "Iter: 3500, weights: [55.16691084  5.98980659  0.42747945  5.95587626], error 26.807641110791327\n",
      "Iter: 4000, weights: [55.16691084  5.98984889  0.42727523  5.95604483], error 26.807584402247862\n",
      "Iter: 4500, weights: [55.16691084  5.98986084  0.42721753  5.95609245], error 26.80756838374391\n",
      "Final MSE: 26.807563858442155\n",
      "Iter: 0, weights: [2.1136636  0.84171371 1.68087953 0.67266979], error 3189.2457350937802\n",
      "Iter: 500, weights: [53.48022372  5.49997949  1.75909704  4.9137246 ], error 34.90849932755424\n",
      "Iter: 1000, weights: [53.48140798  5.64556531  1.22711995  5.31909324], error 34.55105351387634\n",
      "Iter: 1500, weights: [53.48140801  5.66868216  1.12047293  5.40614135], error 34.492856097206904\n",
      "Iter: 2000, weights: [53.48140801  5.6732146   1.09873542  5.42405501], error 34.48149541153912\n",
      "Iter: 2500, weights: [53.48140801  5.67413542  1.09429416  5.42771997], error 34.479195150135254\n",
      "Iter: 3000, weights: [53.48140801  5.67432346  1.09338645  5.42846917], error 34.47872588614172\n",
      "Iter: 3500, weights: [53.48140801  5.6743619   1.09320092  5.4286223 ], error 34.47863000848214\n",
      "Iter: 4000, weights: [53.48140801  5.67436975  1.093163    5.4286536 ], error 34.47861041322382\n",
      "Iter: 4500, weights: [53.48140801  5.67437136  1.09315524  5.42866   ], error 34.478606408140195\n",
      "Final MSE: 34.47860558952901\n",
      "Iter: 0, weights: [ 1.72412352  0.73440636 -1.8951772  -0.69913445], error 3347.189688042533\n",
      "Iter: 500, weights: [49.91853115  5.15080921  1.99187493  4.67864962], error 69.64116954221035\n",
      "Iter: 1000, weights: [49.91904522  5.16588489  1.91088696  4.7471164 ], error 69.5667597817081\n",
      "Iter: 1500, weights: [49.91904523  5.16748016  1.90307424  4.75358693], error 69.56035052571539\n",
      "Iter: 2000, weights: [49.91904523  5.16763515  1.90232446  4.75420609], error 69.5597362634572\n",
      "Iter: 2500, weights: [49.91904523  5.16765004  1.90225256  4.75426545], error 69.55967736267021\n",
      "Iter: 3000, weights: [49.91904523  5.16765147  1.90224566  4.75427114], error 69.55967171478726\n",
      "Iter: 3500, weights: [49.91904523  5.16765161  1.902245    4.75427168], error 69.55967117322712\n",
      "Iter: 4000, weights: [49.91904523  5.16765162  1.90224494  4.75427173], error 69.55967112129846\n",
      "Iter: 4500, weights: [49.91904523  5.16765162  1.90224493  4.75427174], error 69.55967111631921\n",
      "Final MSE: 69.55967111584171\n",
      "Iter: 0, weights: [ 0.33599522 -0.65572749  1.14200255 -0.32757348], error 3457.41138766957\n",
      "Iter: 500, weights: [43.19814996  4.46670788  2.55700146  4.0489737 ], error 205.29212780891444\n",
      "Iter: 1000, weights: [43.19822516  4.47601164  2.52528818  4.07254403], error 205.25413455856943\n",
      "Iter: 1500, weights: [43.19822516  4.47612227  2.52478429  4.07295398], error 205.25358018390656\n",
      "Iter: 2000, weights: [43.19822516  4.47612398  2.52477611  4.07296071], error 205.2535712162528\n",
      "Iter: 2500, weights: [43.19822516  4.47612401  2.52477598  4.07296082], error 205.25357107027602\n",
      "Iter: 3000, weights: [43.19822516  4.47612401  2.52477598  4.07296083], error 205.25357106789775\n",
      "Iter: 3500, weights: [43.19822516  4.47612401  2.52477598  4.07296083], error 205.253571067859\n",
      "Iter: 4000, weights: [43.19822516  4.47612401  2.52477598  4.07296083], error 205.25357106785845\n",
      "Iter: 4500, weights: [43.19822516  4.47612401  2.52477598  4.07296083], error 205.25357106785845\n",
      "Final MSE: 205.25357106785845\n",
      "Iter: 0, weights: [1.73549195 0.5159922  1.00249031 0.50318155], error 3252.6269330717814\n",
      "Iter: 500, weights: [32.86364524  3.63323396  2.66345895  3.38170026], error 592.5328673124947\n",
      "Iter: 1000, weights: [32.86364602  3.63329352  2.6632534   3.38185373], error 592.5325538190882\n",
      "Iter: 1500, weights: [32.86364602  3.63329353  2.66325335  3.38185378], error 592.5325537532934\n",
      "Iter: 2000, weights: [32.86364602  3.63329353  2.66325335  3.38185378], error 592.5325537532769\n",
      "Iter: 2500, weights: [32.86364602  3.63329353  2.66325335  3.38185378], error 592.5325537532769\n",
      "Iter: 3000, weights: [32.86364602  3.63329353  2.66325335  3.38185378], error 592.5325537532769\n",
      "Iter: 3500, weights: [32.86364602  3.63329353  2.66325335  3.38185378], error 592.5325537532769\n",
      "Iter: 4000, weights: [32.86364602  3.63329353  2.66325335  3.38185378], error 592.5325537532769\n",
      "Iter: 4500, weights: [32.86364602  3.63329353  2.66325335  3.38185378], error 592.5325537532769\n",
      "Final MSE: 592.5325537532769\n",
      "Iter: 0, weights: [ 0.41317596 -1.48492175  0.68450369  0.29344526], error 3467.9475076824083\n",
      "Iter: 500, weights: [21.0828043   2.66922278  2.2627129   2.56328802], error 1302.88085462326\n",
      "Iter: 1000, weights: [21.0828043   2.66922278  2.26271289  2.56328803], error 1302.880854605999\n",
      "Iter: 1500, weights: [21.0828043   2.66922278  2.26271289  2.56328803], error 1302.880854605999\n",
      "Iter: 2000, weights: [21.0828043   2.66922278  2.26271289  2.56328803], error 1302.880854605999\n",
      "Iter: 2500, weights: [21.0828043   2.66922278  2.26271289  2.56328803], error 1302.880854605999\n",
      "Iter: 3000, weights: [21.0828043   2.66922278  2.26271289  2.56328803], error 1302.880854605999\n",
      "Iter: 3500, weights: [21.0828043   2.66922278  2.26271289  2.56328803], error 1302.880854605999\n",
      "Iter: 4000, weights: [21.0828043   2.66922278  2.26271289  2.56328803], error 1302.880854605999\n",
      "Iter: 4500, weights: [21.0828043   2.66922278  2.26271289  2.56328803], error 1302.880854605999\n",
      "Final MSE: 1302.880854605999\n",
      "Iter: 0, weights: [0.26546847 0.467236   1.40724856 0.71760653], error 3418.817023664279\n",
      "Iter: 500, weights: [11.47487747  1.69833146  1.54827038  1.66726316], error 2103.3644057838064\n",
      "Iter: 1000, weights: [11.47487747  1.69833146  1.54827038  1.66726316], error 2103.3644057838064\n",
      "Iter: 1500, weights: [11.47487747  1.69833146  1.54827038  1.66726316], error 2103.3644057838064\n",
      "Iter: 2000, weights: [11.47487747  1.69833146  1.54827038  1.66726316], error 2103.3644057838064\n",
      "Iter: 2500, weights: [11.47487747  1.69833146  1.54827038  1.66726316], error 2103.3644057838064\n",
      "Iter: 3000, weights: [11.47487747  1.69833146  1.54827038  1.66726316], error 2103.3644057838064\n",
      "Iter: 3500, weights: [11.47487747  1.69833146  1.54827038  1.66726316], error 2103.3644057838064\n",
      "Iter: 4000, weights: [11.47487747  1.69833146  1.54827038  1.66726316], error 2103.3644057838064\n",
      "Iter: 4500, weights: [11.47487747  1.69833146  1.54827038  1.66726316], error 2103.3644057838064\n",
      "Final MSE: 2103.3644057838064\n",
      "Iter: 0, weights: [-0.0357298   0.79657126  1.0181415  -0.55316595], error 3504.1578839838176\n",
      "Iter: 500, weights: [5.55834098 0.92772602 0.87476767 0.92156435], error 2703.5104592011803\n",
      "Iter: 1000, weights: [5.55834098 0.92772602 0.87476767 0.92156435], error 2703.5104592011803\n",
      "Iter: 1500, weights: [5.55834098 0.92772602 0.87476767 0.92156435], error 2703.5104592011803\n",
      "Iter: 2000, weights: [5.55834098 0.92772602 0.87476767 0.92156435], error 2703.5104592011803\n",
      "Iter: 2500, weights: [5.55834098 0.92772602 0.87476767 0.92156435], error 2703.5104592011803\n",
      "Iter: 3000, weights: [5.55834098 0.92772602 0.87476767 0.92156435], error 2703.5104592011803\n",
      "Iter: 3500, weights: [5.55834098 0.92772602 0.87476767 0.92156435], error 2703.5104592011803\n",
      "Iter: 4000, weights: [5.55834098 0.92772602 0.87476767 0.92156435], error 2703.5104592011803\n",
      "Iter: 4500, weights: [5.55834098 0.92772602 0.87476767 0.92156435], error 2703.5104592011803\n",
      "Final MSE: 2703.5104592011803\n",
      "Iter: 0, weights: [1.08651982 0.16443533 0.76214689 0.90066419], error 3317.703744396987\n",
      "Iter: 500, weights: [2.52157149 0.45155776 0.43221298 0.45106608], error 3046.9395671351926\n",
      "Iter: 1000, weights: [2.52157149 0.45155776 0.43221298 0.45106608], error 3046.9395671351926\n",
      "Iter: 1500, weights: [2.52157149 0.45155776 0.43221298 0.45106608], error 3046.9395671351926\n",
      "Iter: 2000, weights: [2.52157149 0.45155776 0.43221298 0.45106608], error 3046.9395671351926\n",
      "Iter: 2500, weights: [2.52157149 0.45155776 0.43221298 0.45106608], error 3046.9395671351926\n",
      "Iter: 3000, weights: [2.52157149 0.45155776 0.43221298 0.45106608], error 3046.9395671351926\n",
      "Iter: 3500, weights: [2.52157149 0.45155776 0.43221298 0.45106608], error 3046.9395671351926\n",
      "Iter: 4000, weights: [2.52157149 0.45155776 0.43221298 0.45106608], error 3046.9395671351926\n",
      "Iter: 4500, weights: [2.52157149 0.45155776 0.43221298 0.45106608], error 3046.9395671351926\n",
      "Final MSE: 3046.9395671351926\n",
      "Iter: 0, weights: [1.11884787 0.20654046 0.20254156 0.2102434 ], error 3280.451893954737\n",
      "Iter: 500, weights: [1.10784314 0.20547419 0.19795963 0.20576233], error 3215.845108956103\n",
      "Iter: 1000, weights: [1.10784314 0.20547419 0.19795963 0.20576233], error 3215.845108956103\n",
      "Iter: 1500, weights: [1.10784314 0.20547419 0.19795963 0.20576233], error 3215.845108956103\n",
      "Iter: 2000, weights: [1.10784314 0.20547419 0.19795963 0.20576233], error 3215.845108956103\n",
      "Iter: 2500, weights: [1.10784314 0.20547419 0.19795963 0.20576233], error 3215.845108956103\n",
      "Iter: 3000, weights: [1.10784314 0.20547419 0.19795963 0.20576233], error 3215.845108956103\n",
      "Iter: 3500, weights: [1.10784314 0.20547419 0.19795963 0.20576233], error 3215.845108956103\n",
      "Iter: 4000, weights: [1.10784314 0.20547419 0.19795963 0.20576233], error 3215.845108956103\n",
      "Iter: 4500, weights: [1.10784314 0.20547419 0.19795963 0.20576233], error 3215.845108956103\n",
      "Final MSE: 3215.845108956103\n"
     ]
    },
    {
     "data": {
      "image/png": "[encoded data removed]",
      "text/plain": [
       "<Figure size 432x288 with 1 Axes>"
      ]
     },
     "metadata": {
      "needs_background": "light"
     },
     "output_type": "display_data"
    }
   ],
   "source": [
    "n=20\n",
    "coeffs1 = np.zeros((n, X.shape[1]))\n",
    "alpha_list = np.logspace(-5, 2, n)\n",
    "\n",
    "for i, val in enumerate(alpha_list):\n",
    "    reg1 = val\n",
    "  \n",
    "    coeffs1[i, :] = gradient_descent_reg_l2(X_st, y, iterations=5000, eta=1e-2, reg=reg1)\n",
    "\n",
    "for i in range(X.shape[1]):\n",
    "    plt.plot(alpha_list, coeffs1[:, i])\n",
    "\n",
    "plt.title('Убывание абсолютных значений весов признаков\\n при увеличении коэффициента регуляризации alpha (Ridge)')\n",
    "plt.xlabel('alpha')\n",
    "plt.ylabel('Вес признака');"
   ]
  },
  {
   "cell_type": "code",
   "execution_count": null,
   "metadata": {},
   "outputs": [],
   "source": []
  },
  {
   "cell_type": "code",
   "execution_count": null,
   "metadata": {},
   "outputs": [],
   "source": [
    "Вывод: при увеличение alfa уменьшаются веса, но увеличивается ошибка."
   ]
  },
  {
   "cell_type": "code",
   "execution_count": null,
   "metadata": {},
   "outputs": [],
   "source": [
    "Задание 2 (Cылка на вычисление производной не открылась, но по логике так:) В итогах разницы особой не увидела, чуть меньше ошибка."
   ]
  },
  {
   "cell_type": "code",
   "execution_count": 32,
   "metadata": {},
   "outputs": [],
   "source": [
    "def gradient_descent_reg_l1(X, y, iterations, eta=1e-4, reg=1e-8):\n",
    "    W = np.random.randn(X.shape[1])\n",
    "    n = X.shape[0]\n",
    "    \n",
    "    for i in range(0, iterations):\n",
    "        y_pred = np.dot(X, W)\n",
    "        err = calc_mse(y, y_pred)\n",
    "        \n",
    "        dQ = 2/n * X.T @ (y_pred - y) # градиент функции ошибки\n",
    "        dReg = reg * np.sign(W) # градиент регуляризации\n",
    "        \n",
    "        W -= eta * (dQ + dReg)\n",
    "        \n",
    "        if i % (iterations / 10) == 0:\n",
    "            print(f'Iter: {i}, weights: {W}, error {err}')\n",
    "    \n",
    "    print(f'Final MSE: {calc_mse(y, np.dot(X, W))}')\n",
    "    return W"
   ]
  },
  {
   "cell_type": "code",
   "execution_count": 33,
   "metadata": {},
   "outputs": [
    {
     "name": "stdout",
     "output_type": "stream",
     "text": [
      "Iter: 0, weights: [ 1.09547752  0.68713542 -0.06389205 -0.77270614], error 3375.320061608966\n",
      "Iter: 500, weights: [56.49767709  5.94143341  1.22446574  5.29918079], error 25.340483920061057\n",
      "Iter: 1000, weights: [56.49994991  6.18418677  0.20907552  6.10638168], error 24.961012910175832\n",
      "Iter: 1500, weights: [56.49995     6.26075991 -0.15276656  6.40353814], error 24.911942838679245\n",
      "Iter: 2000, weights: [56.49995     6.28775168 -0.28272357  6.51073466], error 24.90557733440321\n",
      "Iter: 2500, weights: [56.49995     6.29744316 -0.32949298  6.54933428], error 24.904746536960623\n",
      "Iter: 3000, weights: [56.49995     6.3009303  -0.34632684  6.56322866], error 24.904636706132212\n",
      "Iter: 3500, weights: [56.49995     6.30218541 -0.35238603  6.56822986], error 24.904621686802873\n",
      "Iter: 4000, weights: [56.49995     6.30263717 -0.35456698  6.57003001], error 24.90461945662055\n",
      "Iter: 4500, weights: [56.49995     6.30279978 -0.355352    6.57067796], error 24.904619065348054\n",
      "Final MSE: 24.904618977821116\n"
     ]
    },
    {
     "data": {
      "text/plain": [
       "array([56.49995   ,  6.30285824, -0.35563423,  6.57091091])"
      ]
     },
     "execution_count": 33,
     "metadata": {},
     "output_type": "execute_result"
    }
   ],
   "source": [
    "gradient_descent_reg_l1(X_st, y, iterations=5000, eta=1e-2, reg=1e-4)"
   ]
  },
  {
   "cell_type": "markdown",
   "metadata": {},
   "source": [
    "Задание 3:Можно ли к одному и тому же признаку применить сразу и нормализацию, и стандартизацию . Да можно (можно то, что не нельзя :)), но по факту будет выполненно то, что сделано последним. И смысл применения обоих методов от этого теряется."
   ]
  }
 ],
 "metadata": {
  "kernelspec": {
   "display_name": "Python 3",
   "language": "python",
   "name": "python3"
  },
  "language_info": {
   "codemirror_mode": {
    "name": "ipython",
    "version": 3
   },
   "file_extension": ".py",
   "mimetype": "text/x-python",
   "name": "python",
   "nbconvert_exporter": "python",
   "pygments_lexer": "ipython3",
   "version": "3.8.5"
  }
 },
 "nbformat": 4,
 "nbformat_minor": 4
}
